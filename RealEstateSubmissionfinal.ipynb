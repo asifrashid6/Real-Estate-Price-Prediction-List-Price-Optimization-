{
  "cells": [
    {
      "cell_type": "markdown",
      "metadata": {
        "id": "TphJN0xhhekK"
      },
      "source": [
        "The following chunck of code is to import all necessary packages. **Run beforehand**. Change as per your need."
      ]
    },
    {
      "cell_type": "code",
      "execution_count": null,
      "metadata": {
        "id": "e52kqx0vhekL"
      },
      "outputs": [],
      "source": [
        "import pandas as pd\n",
        "import numpy as np\n",
        "import matplotlib.pyplot as plt\n",
        "import seaborn as sns\n",
        "import warnings\n",
        "warnings.filterwarnings(\"ignore\")\n",
        "plt.rcParams['figure.dpi'] = 100\n",
        "plt.rcParams['savefig.dpi'] = 100\n",
        "\n",
        "\n",
        "from statsmodels.formula.api import ols\n",
        "from sklearn import linear_model\n",
        "from sklearn.linear_model import Ridge, Lasso, RidgeCV, LassoCV\n",
        "from sklearn.model_selection import train_test_split, cross_val_score, GridSearchCV\n",
        "from sklearn.metrics import mean_squared_error\n",
        "\n",
        "\n",
        "# Code below is for web scrapping, DO NOT CHANGE\n",
        "import re\n",
        "import requests\n",
        "from bs4 import BeautifulSoup\n",
        "import json\n",
        "import datetime\n",
        "\n",
        "def fetch_react_server_state(url):\n",
        "    headers = {\n",
        "        \"User-Agent\": \"Mozilla/5.0 (Windows NT 10.0; Win64; x64) AppleWebKit/537.36 (KHTML, like Gecko) Chrome/91.0.4472.124 Safari/537.36\"\n",
        "    }\n",
        "    response = requests.get(url, headers=headers)\n",
        "\n",
        "    soup = BeautifulSoup(response.text, 'html.parser')\n",
        "\n",
        "    script_tag = soup.find(\"script\", text=re.compile(r\"root\\.__reactServerState\"))\n",
        "    if not script_tag:\n",
        "        print(\"No <script> tag found with 'root.__reactServerState'.\")\n",
        "        return None\n",
        "    return script_tag.string\n",
        "def extract_initial_context(script_text):\n",
        "    pattern = re.compile(\n",
        "        r'root\\.__reactServerState\\.InitialContext\\s*=\\s*(\\{.*?\\});',\n",
        "        re.DOTALL\n",
        "    )\n",
        "    match = pattern.search(script_text)\n",
        "    if not match:\n",
        "        print(\"Could not find 'InitialContext' assignment.\")\n",
        "        return None\n",
        "    raw_object = match.group(1).rstrip(';')\n",
        "    return raw_object\n",
        "def parse_json_object(raw_js_object):\n",
        "    try:\n",
        "        data = json.loads(raw_js_object)\n",
        "        return data\n",
        "    except json.JSONDecodeError as e:\n",
        "        print(\"JSON decode error:\", e)\n",
        "        return None\n",
        "def scrape_redfin_data(url):\n",
        "    script_text = fetch_react_server_state(url)\n",
        "    if not script_text:\n",
        "        return None\n",
        "\n",
        "    raw_js_object = extract_initial_context(script_text)\n",
        "    if not raw_js_object:\n",
        "        return None\n",
        "\n",
        "    data = parse_json_object(raw_js_object)\n",
        "    if not data:\n",
        "        return None\n",
        "    return data\n",
        "\n",
        "def scrape_redfin_dates_scores(url):\n",
        "  sold_time, list_time, list_price, walkScore, transitScore, bikeScore, prime_rating, middle_rating, high_rating = 0,0,0,0,0,0,0,0,0\n",
        "  try:\n",
        "    data = scrape_redfin_data(url)\n",
        "    data_temp = data['ReactServerAgent.cache']['dataCache']\n",
        "    belowTheFold = json.loads(data_temp['/stingray/api/home/details/belowTheFold']['res']['text'][4:])['payload']\n",
        "  except:\n",
        "    return sold_time, list_time, walkScore, transitScore, bikeScore\n",
        "  try:\n",
        "    event_list = belowTheFold['propertyHistoryInfo']['events']\n",
        "    for l in event_list:\n",
        "      if 'Sold' in l['eventDescription']:\n",
        "        sold_time = (datetime.datetime.fromtimestamp(l['eventDate']/1000).date())\n",
        "      if l['eventDescription'] == 'Listed':\n",
        "        list_time = (datetime.datetime.fromtimestamp(l['eventDate']/1000).date())\n",
        "        list_price = l['price']\n",
        "        break\n",
        "  except:\n",
        "    pass\n",
        "\n",
        "  try:\n",
        "    school_list = belowTheFold['schoolsAndDistrictsInfo']['servingThisHomeSchools']\n",
        "    if len(school_list) == 0:\n",
        "      school_list = belowTheFold['schoolsAndDistrictsInfo']['schoolsToShowOnDP']\n",
        "    for s in school_list:\n",
        "      if 'K-5' in s['gradeRanges']:\n",
        "        prime_rating = s['greatSchoolsRating']\n",
        "      elif '6-8' in s['gradeRanges']:\n",
        "        middle_rating = s['greatSchoolsRating']\n",
        "      elif '9-12' in s['gradeRanges']:\n",
        "        high_rating = s['greatSchoolsRating']\n",
        "  except:\n",
        "    pass\n",
        "\n",
        "  try:\n",
        "    scores = json.loads(data_temp['/stingray/api/home/details/aroundThisHomeSectionInfo']['res']['text'][4:])['payload']['walkScoreData']\n",
        "    try:\n",
        "      walkScore = scores['walkScore']['value']\n",
        "    except:\n",
        "      pass\n",
        "    try:\n",
        "      transitScore = scores['transitScore']['value']\n",
        "    except:\n",
        "      pass\n",
        "    try:\n",
        "      bikeScore = scores['bikeScore']['value']\n",
        "    except:\n",
        "      pass\n",
        "    return sold_time, list_time, list_price, walkScore, transitScore, bikeScore, prime_rating, middle_rating, high_rating\n",
        "\n",
        "  except:\n",
        "    return sold_time, list_time, list_price, walkScore, transitScore, bikeScore, prime_rating, middle_rating, high_rating\n"
      ]
    },
    {
      "cell_type": "markdown",
      "source": [
        "# Data Preprocessing"
      ],
      "metadata": {
        "id": "Vb4rJdkgT_Bn"
      }
    },
    {
      "cell_type": "markdown",
      "metadata": {
        "id": "QwOeJX5zhekL"
      },
      "source": [
        "Code below is to read and merge data, and run web scraping (can take 10~20 minutes). **Please change the list of .csv file names**. Make sure you have > 600 samples"
      ]
    },
    {
      "cell_type": "code",
      "execution_count": null,
      "metadata": {
        "id": "Z7HLcOCMhekL"
      },
      "outputs": [],
      "source": [
        "#merge the .csv files\n",
        "df = pd.DataFrame()\n",
        "for filename in ['60610.csv', '60613.csv', '60614.csv','60618.csv']: # Please change the list of .csv file names\n",
        "    df_temp = pd.read_csv(filename, index_col=None)\n",
        "    df_temp = df_temp.iloc[1:]\n",
        "    df = pd.concat([df, df_temp])\n",
        "houses = df.reset_index(drop=True)\n",
        "houses.columns = [col.replace(' ', '_') for col in houses.columns] #remove the spaces in the column names\n",
        "nrow = len(houses)\n",
        "print(\"The dataset has\", nrow, \"listings, which is\", \"less\" if nrow < 600 else \"more\", \"than 600 samples\")"
      ]
    },
    {
      "cell_type": "code",
      "source": [
        "#rename the column name\n",
        "for col in houses.columns:\n",
        "    if col.startswith(\"URL_(\"):\n",
        "        houses = houses.rename(columns={col: \"URL\"})\n",
        "        break\n",
        "#web scraping, can take 10~20 minutes, depending on your data size\n",
        "houses[['SOLD_DATE','LIST_DATE','list_price','walkScore', 'transitScore', 'bikeScore','prime_rating', 'middle_rating', 'high_rating']] = houses['URL'].apply(lambda x: pd.Series(scrape_redfin_dates_scores(x)))\n",
        "#save to .csv file. You can download the saved file to local directory so you don't need to do web scrapping every time.\n",
        "houses.to_csv('houses.csv', index=False) #to download the datset, go to the data folder on the left, click the vertical ellipsis, select download. For future use, you just upload the file 'houses.csv' without running this code chunck"
      ],
      "metadata": {
        "id": "pjQ3Itu7wywt"
      },
      "execution_count": null,
      "outputs": []
    },
    {
      "cell_type": "markdown",
      "source": [
        "## Part 0 Data Preprocessing\n",
        "1. Exploratory Data Analysis (EDA)\n",
        "1) What is the average price per square foot in your selected region?\n",
        "2) Create a boxplot for price per square foot. Are there any outliers in the price per square foot? If so,\n",
        "remove the top 2% and bottom 2%."
      ],
      "metadata": {
        "id": "V2_hsNR7-toQ"
      }
    },
    {
      "cell_type": "code",
      "source": [
        "import pandas as pd\n",
        "import matplotlib.pyplot as plt\n",
        "\n",
        "# List of CSV file names\n",
        "csv_files = [\"houses.csv\"]\n",
        "\n",
        "# List to store DataFrames from each CSV\n",
        "dfs = []\n",
        "\n",
        "for file in csv_files:\n",
        "    try:\n",
        "        # Load the CSV file\n",
        "        df = pd.read_csv(file)\n",
        "    except Exception as e:\n",
        "        print(f\"Error reading {file}: {e}\")\n",
        "        continue\n",
        "\n",
        "    # Filter out rows where \"SQUARE FEET\" is non-positive to avoid division errors\n",
        "    df = df[df[\"SQUARE_FEET\"] > 0].copy()\n",
        "\n",
        "    # Compute price per square foot using PRICE and SQUARE FEET\n",
        "    df[\"price_per_sqft\"] = df[\"PRICE\"] / df[\"SQUARE_FEET\"]\n",
        "\n",
        "    # Append the DataFrame to our list\n",
        "    dfs.append(df)\n",
        "\n",
        "# Combine all DataFrames into a single DataFrame\n",
        "if dfs:\n",
        "    combined_df = pd.concat(dfs, ignore_index=True)\n",
        "\n",
        "    # 1) Calculate the overall average price per square foot\n",
        "    overall_avg = combined_df[\"price_per_sqft\"].mean()\n",
        "    print(f\"Overall average price per square foot: {overall_avg:.2f}\")\n",
        "\n",
        "    # Identify outlier thresholds: remove the top 2% and bottom 2%\n",
        "    lower_bound = combined_df[\"price_per_sqft\"].quantile(0.02)\n",
        "    upper_bound = combined_df[\"price_per_sqft\"].quantile(0.98)\n",
        "\n",
        "    # Filter out the outliers\n",
        "    filtered_df = combined_df[(combined_df[\"price_per_sqft\"] >= lower_bound) &\n",
        "                                (combined_df[\"price_per_sqft\"] <= upper_bound)]\n",
        "    print(f\"After outlier removal: {len(filtered_df)} records remain out of {len(combined_df)} total.\")\n",
        "\n",
        "    # Create and save a boxplot for the original combined data\n",
        "    plt.figure(figsize=(8, 6))\n",
        "    plt.boxplot(combined_df[\"price_per_sqft\"].dropna(), vert=True)\n",
        "    plt.title(\"Boxplot of Price per Sq Ft (Original Data)\")\n",
        "    plt.ylabel(\"Price per Sq Ft\")\n",
        "    plt.xlabel(\"All Data\")\n",
        "    plt.savefig(\"boxplot_combined.png\")\n",
        "    plt.close()\n",
        "    print(\"Saved combined boxplot as 'boxplot_combined.png'\")\n",
        "\n",
        "    # Create and save a boxplot for the filtered data\n",
        "    plt.figure(figsize=(8, 6))\n",
        "    plt.boxplot(filtered_df[\"price_per_sqft\"].dropna(), vert=True)\n",
        "    plt.title(\"Boxplot of Price per Sq Ft (Filtered Data)\")\n",
        "    plt.ylabel(\"Price per Sq Ft\")\n",
        "    plt.xlabel(\"2nd & 98th Percentiles\")\n",
        "    plt.savefig(\"boxplot_combined_filtered.png\")\n",
        "    plt.close()\n",
        "    print(\"Saved filtered combined boxplot as 'boxplot_combined_filtered.png'\")\n",
        "\n",
        "    # Create a single figure with both boxplots side by side for comparison\n",
        "    fig, axs = plt.subplots(1, 2, figsize=(14, 6))\n",
        "\n",
        "    axs[0].boxplot(combined_df[\"price_per_sqft\"].dropna(), vert=True)\n",
        "    axs[0].set_title(\"Original Data\")\n",
        "    axs[0].set_ylabel(\"Price per Sq Ft\")\n",
        "    axs[0].set_xlabel(\"All Data\")\n",
        "\n",
        "    axs[1].boxplot(filtered_df[\"price_per_sqft\"].dropna(), vert=True)\n",
        "    axs[1].set_title(\"Filtered Data\\n(Outliers Removed)\")\n",
        "    axs[1].set_ylabel(\"Price per Sq Ft\")\n",
        "    axs[1].set_xlabel(\"2nd & 98th Percentiles\")\n",
        "\n",
        "    fig.suptitle(\"Comparison of Price per Sq Ft Boxplots\")\n",
        "    plt.savefig(\"boxplot_comparison.png\")\n",
        "    plt.close()\n",
        "    print(\"Saved comparison boxplot as 'boxplot_comparison.png'\")\n",
        "else:\n",
        "    print(\"No valid data available for analysis.\")\n"
      ],
      "metadata": {
        "id": "yDCpqzRT_gFH",
        "colab": {
          "base_uri": "https://localhost:8080/"
        },
        "outputId": "07a12370-e012-4f17-d0bf-2bc810e5ffc8"
      },
      "execution_count": null,
      "outputs": [
        {
          "output_type": "stream",
          "name": "stdout",
          "text": [
            "Overall average price per square foot: 383.01\n",
            "After outlier removal: 467 records remain out of 487 total.\n",
            "Saved combined boxplot as 'boxplot_combined.png'\n",
            "Saved filtered combined boxplot as 'boxplot_combined_filtered.png'\n",
            "Saved comparison boxplot as 'boxplot_comparison.png'\n"
          ]
        }
      ]
    },
    {
      "cell_type": "markdown",
      "source": [
        "## Answer\n",
        "\n",
        "The overall average price per square foot is 383.01.\n",
        "There were outliers and,  after outlier removal 467 records remained out of 487 total.\n",
        "\n",
        "\n"
      ],
      "metadata": {
        "id": "zRF5Lnmw-6Vh"
      }
    },
    {
      "cell_type": "markdown",
      "source": [
        "# Part I Regression"
      ],
      "metadata": {
        "id": "Ur-6vKpXVDV5"
      }
    },
    {
      "cell_type": "code",
      "execution_count": null,
      "metadata": {
        "id": "IcgxWG4ThekM"
      },
      "outputs": [],
      "source": [
        "houses = pd.read_csv('houses.csv')\n",
        "houses = houses.fillna(0) #replace empty values in data with 0"
      ]
    },
    {
      "cell_type": "markdown",
      "metadata": {
        "id": "_5IdsRyfhekM"
      },
      "source": [
        "Example code for Question 1.2) if there **are** outliers in your data."
      ]
    },
    {
      "cell_type": "code",
      "execution_count": null,
      "metadata": {
        "id": "52tD99hahekM"
      },
      "outputs": [],
      "source": [
        "#example code for dropping outliers (drop the top 2% and bottom 2% of the price per square_feet)\n",
        "top2 = np.percentile(houses['$/SQUARE_FEET'], 98) # 98 = 100 - 2, if you choose to move top 5%, replace 98 with 95\n",
        "bottom2 = np.percentile(houses['$/SQUARE_FEET'], 2)\n",
        "houses = houses.loc[(houses['$/SQUARE_FEET'] >= bottom2) & (houses['$/SQUARE_FEET'] <= top2)]"
      ]
    },
    {
      "cell_type": "markdown",
      "source": [
        "# Split the data into training (70%), validation (20%) and testing (10%) set"
      ],
      "metadata": {
        "id": "rUZ6DYAqri8n"
      }
    },
    {
      "cell_type": "code",
      "source": [
        "import pandas as pd\n",
        "from sklearn.model_selection import train_test_split\n",
        "\n",
        "# Load your cleaned dataset (ensure outliers on key features have been removed)\n",
        "houses = pd.read_csv(\"houses.csv\")\n",
        "\n",
        "# Define features and target for regression (for now, using PRICE as target)\n",
        "# For the simple and multiple regression later, we start with SQUARE_FEET, BEDS, and BATHS.\n",
        "X = houses[['SQUARE_FEET', 'BEDS', 'BATHS']]\n",
        "y = houses['PRICE']\n",
        "\n",
        "# First, split into training (70%) and temporary (30%) data:\n",
        "X_train, X_temp, y_train, y_temp = train_test_split(X, y, test_size=0.30, random_state=42)\n",
        "\n",
        "# Then split the temporary set into validation (20% overall) and testing (10% overall)\n",
        "X_val, X_test, y_val, y_test = train_test_split(X_temp, y_temp, test_size=0.333, random_state=42)\n",
        "\n",
        "print(\"Training set:\", X_train.shape, y_train.shape)\n",
        "print(\"Validation set:\", X_val.shape, y_val.shape)\n",
        "print(\"Testing set:\", X_test.shape, y_test.shape)\n",
        "\n"
      ],
      "metadata": {
        "id": "anLWrwHMTuVc",
        "colab": {
          "base_uri": "https://localhost:8080/"
        },
        "outputId": "af2981b9-1aa1-4b68-82e5-dcdd60a44321"
      },
      "execution_count": null,
      "outputs": [
        {
          "output_type": "stream",
          "name": "stdout",
          "text": [
            "Training set: (597, 3) (597,)\n",
            "Validation set: (171, 3) (171,)\n",
            "Testing set: (86, 3) (86,)\n"
          ]
        }
      ]
    },
    {
      "cell_type": "markdown",
      "source": [
        "# Run a simple linear regression of PRICE (target) vs SQUARE_FEET (feature) on training data."
      ],
      "metadata": {
        "id": "XK8LiLEDs5fL"
      }
    },
    {
      "cell_type": "code",
      "source": [
        "import numpy as np\n",
        "import pandas as pd\n",
        "\n",
        "\n",
        "# Make sure columns are numeric\n",
        "houses['PRICE'] = pd.to_numeric(houses['PRICE'], errors='coerce')\n",
        "houses['SQUARE_FEET'] = pd.to_numeric(houses['SQUARE_FEET'], errors='coerce')\n",
        "\n",
        "# Drop rows that have missing PRICE or SQUARE_FEET\n",
        "houses = houses.dropna(subset=['PRICE','SQUARE_FEET'])\n",
        "\n",
        "# Extract columns\n",
        "x = houses['SQUARE_FEET']\n",
        "y = houses['PRICE']\n",
        "n = len(houses)\n",
        "\n",
        "xy = 0\n",
        "xx = 0\n",
        "for i in range(n):\n",
        "    xy += x.iloc[i] * y.iloc[i]\n",
        "    xx += x.iloc[i] * x.iloc[i]\n",
        "\n",
        "# Compute slope (w1_hat)\n",
        "numerator = xy - n * np.mean(x) * np.mean(y)\n",
        "denominator = xx - n * (np.mean(x) ** 2)\n",
        "w1_hat = numerator / denominator\n",
        "\n",
        "# Compute intercept (w0_hat)\n",
        "w0_hat = np.mean(y) - w1_hat * np.mean(x)\n",
        "\n",
        "print(\"Coefficient (w1_hat):\", w1_hat)\n",
        "print(\"Intercept (w0_hat):\", w0_hat)\n",
        "\n",
        "# Then print how many rows remain\n",
        "print(\"Remaining rows after drop:\", len(houses))\n",
        "\n",
        "# Or you can see both rows and columns with:\n",
        "print(\"DataFrame shape:\", houses.shape)\n"
      ],
      "metadata": {
        "id": "pDM-eCEaVGWU",
        "colab": {
          "base_uri": "https://localhost:8080/"
        },
        "outputId": "ffa36612-97a6-4273-b6b0-80fb82595c56"
      },
      "execution_count": null,
      "outputs": [
        {
          "output_type": "stream",
          "name": "stdout",
          "text": [
            "Coefficient (w1_hat): 403.9453430303531\n",
            "Intercept (w0_hat): 4466.435025963467\n",
            "Remaining rows after drop: 487\n",
            "DataFrame shape: (487, 35)\n"
          ]
        }
      ]
    },
    {
      "cell_type": "markdown",
      "source": [
        "A simple linear regression model is built using **SQUARE_FEET** as the sole predictor of **PRICE**.  \n",
        "The following estimates are obtained on the **training** data (after outlier removal):\n",
        "\n",
        "- **Coefficient (w₁) on SQUARE_FEET**: ≈ **404**\n",
        "- **Intercept (w₀)**: ≈ **4,466**\n",
        "\n",
        "**Interpretation:**\n",
        "- For each additional square foot, the predicted price increases by about \\$404 on average.\n",
        "- The intercept (~\\$4,466) is not realistic as a “0 square feet” price, but it provides a baseline for the regression line’s location.\n",
        "\n",
        "---"
      ],
      "metadata": {
        "id": "oeZVB4PDGs9M"
      }
    },
    {
      "cell_type": "markdown",
      "source": [
        "# Extend the model by adding BEDS and BATHS as additional features."
      ],
      "metadata": {
        "id": "Oe_jBtZCuHDt"
      }
    },
    {
      "cell_type": "code",
      "source": [
        "from statsmodels.formula.api import ols\n",
        "import matplotlib.pyplot as plt\n",
        "import seaborn as sns\n",
        "\n",
        "# Fit a multiple linear regression model using SQUARE_FEET, BEDS, and BATHS to predict PRICE.\n",
        "# (Assumes that houses DataFrame has been cleaned and has numeric columns for these variables.)\n",
        "model_multi = ols(\"PRICE ~ SQUARE_FEET + BEDS + BATHS\", data=houses).fit()\n",
        "\n",
        "# Print the model summary to inspect coefficients and their statistical significance.\n",
        "print(model_multi.summary())\n",
        "\n",
        "# Extract predicted values and residuals.\n",
        "houses['predicted_price'] = model_multi.predict(houses)\n",
        "houses['residuals'] = houses['PRICE'] - houses['predicted_price']\n",
        "\n",
        "# Plot predicted vs. actual PRICE.\n",
        "plt.figure(figsize=(8,6))\n",
        "sns.scatterplot(x=houses['predicted_price'], y=houses['PRICE'], alpha=0.7)\n",
        "plt.plot([houses['predicted_price'].min(), houses['predicted_price'].max()],\n",
        "         [houses['predicted_price'].min(), houses['predicted_price'].max()],\n",
        "         color='red', linestyle='--')\n",
        "plt.xlabel(\"Predicted Price\")\n",
        "plt.ylabel(\"Actual Price\")\n",
        "plt.title(\"Predicted vs. Actual Price\")\n",
        "plt.show()\n",
        "\n",
        "# Plot residuals vs. predicted values.\n",
        "plt.figure(figsize=(8,6))\n",
        "sns.scatterplot(x=houses['predicted_price'], y=houses['residuals'], alpha=0.7)\n",
        "plt.axhline(0, color='red', linestyle='--')\n",
        "plt.xlabel(\"Predicted Price\")\n",
        "plt.ylabel(\"Residuals\")\n",
        "plt.title(\"Residual Plot\")\n",
        "plt.show()\n"
      ],
      "metadata": {
        "id": "V0zs3zw5uDKN",
        "colab": {
          "base_uri": "https://localhost:8080/",
          "height": 1000
        },
        "outputId": "b40d5cfc-a2bd-4ce3-f508-92e221cd744d"
      },
      "execution_count": null,
      "outputs": [
        {
          "output_type": "stream",
          "name": "stdout",
          "text": [
            "                            OLS Regression Results                            \n",
            "==============================================================================\n",
            "Dep. Variable:                  PRICE   R-squared:                       0.507\n",
            "Model:                            OLS   Adj. R-squared:                  0.504\n",
            "Method:                 Least Squares   F-statistic:                     163.0\n",
            "Date:                Tue, 18 Mar 2025   Prob (F-statistic):           1.11e-72\n",
            "Time:                        03:18:07   Log-Likelihood:                -7161.8\n",
            "No. Observations:                 480   AIC:                         1.433e+04\n",
            "Df Residuals:                     476   BIC:                         1.435e+04\n",
            "Df Model:                           3                                         \n",
            "Covariance Type:            nonrobust                                         \n",
            "===============================================================================\n",
            "                  coef    std err          t      P>|t|      [0.025      0.975]\n",
            "-------------------------------------------------------------------------------\n",
            "Intercept    1.966e+04   6.55e+04      0.300      0.764   -1.09e+05    1.48e+05\n",
            "SQUARE_FEET   427.1822     45.565      9.375      0.000     337.649     516.715\n",
            "BEDS        -2.141e+05   3.13e+04     -6.838      0.000   -2.76e+05   -1.53e+05\n",
            "BATHS        2.361e+05   5.75e+04      4.105      0.000    1.23e+05    3.49e+05\n",
            "==============================================================================\n",
            "Omnibus:                      414.755   Durbin-Watson:                   1.900\n",
            "Prob(Omnibus):                  0.000   Jarque-Bera (JB):            28715.906\n",
            "Skew:                           3.250   Prob(JB):                         0.00\n",
            "Kurtosis:                      40.330   Cond. No.                     6.17e+03\n",
            "==============================================================================\n",
            "\n",
            "Notes:\n",
            "[1] Standard Errors assume that the covariance matrix of the errors is correctly specified.\n",
            "[2] The condition number is large, 6.17e+03. This might indicate that there are\n",
            "strong multicollinearity or other numerical problems.\n"
          ]
        },
        {
          "output_type": "display_data",
          "data": {
            "text/plain": [
              "<Figure size 800x600 with 1 Axes>"
            ],
            "image/png": "[encoded data removed]"
          },
          "metadata": {}
        },
        {
          "output_type": "display_data",
          "data": {
            "text/plain": [
              "<Figure size 800x600 with 1 Axes>"
            ],
            "image/png": "[encoded data removed]"
          },
          "metadata": {}
        }
      ]
    },
    {
      "cell_type": "markdown",
      "source": [
        "## Multiple Regression: PRICE vs. SQUARE_FEET, BEDS, and BATHS\n",
        "\n",
        "From the OLS regression results in the screenshot, we have:\n",
        "\n",
        "- **Intercept**: ≈ \\$19,660  \n",
        "- **Coefficient on SQUARE_FEET**: ≈ \\$427  \n",
        "- **Coefficient on BEDS**: ≈ –\\$214,100  \n",
        "- **Coefficient on BATHS**: ≈ \\$236,100  \n",
        "- **R²**: 0.507\n",
        "\n",
        "### Interpretation\n",
        "\n",
        "- **SQUARE_FEET**: A positive coefficient (≈\\$427) indicates that, on average, each additional square foot increases the predicted price by \\$427 (holding beds and baths constant).  \n",
        "- **BEDS**: A negative coefficient (≈–\\$214,100) implies that, after controlling for size and bathrooms, adding more bedrooms can be associated with a lower predicted price. This sometimes happens when extra bedrooms reduce average room size or reflect less desirable layouts.  \n",
        "- **BATHS**: A positive coefficient (≈\\$236,100) suggests that each additional bathroom (again, holding other variables constant) raises the predicted price substantially.  \n",
        "- **R² = 0.507**: About 50.7% of the variation in home prices is explained by these three predictors. The remainder is due to other unobserved factors or randomness.\n",
        "\n",
        "Prediction Example\n",
        "For a 2-bedroom, 2-bath home with 1,500 square feet, the estimated price is computed as:\n",
        "\n",
        "Predicted PRICE = 19,660 + (1,500 × 427) + (2 × -214,100) + (2 × 236,100).\n",
        "\n",
        "Breaking it down:\n",
        "\n",
        "Square feet contribution: 1,500 × 427 ≈ 640,500\n",
        "Bedrooms contribution: 2 × -214,100 ≈ -428,200\n",
        "Bathrooms contribution: 2 × 236,100 ≈ 472,200\n",
        "Intercept: +$19,660\n",
        "Summing these:\n",
        "\n",
        "19,660 + 640,500 - 428,200 + 472,200 ≈ 704,160.\n",
        "\n",
        "(Note: A formal prediction interval would typically be derived from the model's standard error. This summary focuses on the point estimate.)\n",
        "\n"
      ],
      "metadata": {
        "id": "D260CD0wG39G"
      }
    },
    {
      "cell_type": "markdown",
      "source": [
        "Regularization Based on the features ['PROPERTY_TYPE', 'ZIP_OR_POSTAL_CODE',\n",
        "'BEDS', 'BATHS', 'SQUARE_FEET', 'LOT_SIZE', 'YEAR_BUILT', 'walkScore',\n",
        "'transitScore', 'bikeScore', 'prime_rating', 'middle_rating',\n",
        "'high_rating'],\n",
        "# 1) Handle the categorical features properly"
      ],
      "metadata": {
        "id": "lWXy4BsyurQE"
      }
    },
    {
      "cell_type": "code",
      "source": [
        "# Define the features we want to use\n",
        "features = ['PROPERTY_TYPE', 'ZIP_OR_POSTAL_CODE', 'BEDS', 'BATHS',\n",
        "            'SQUARE_FEET', 'LOT_SIZE', 'YEAR_BUILT', 'walkScore',\n",
        "            'transitScore', 'bikeScore', 'prime_rating', 'middle_rating', 'high_rating']\n",
        "\n",
        "# Create a new DataFrame using these features PLUS the target 'PRICE'\n",
        "df_reg = houses[features + ['PRICE']].copy()\n",
        "\n",
        "# One-hot encode the categorical variables 'PROPERTY_TYPE' and 'ZIP_OR_POSTAL_CODE'\n",
        "df_reg = pd.get_dummies(df_reg, columns=['PROPERTY_TYPE', 'ZIP_OR_POSTAL_CODE'], drop_first=True)\n",
        "\n",
        "# (C) Drop any rows with NaN if needed\n",
        "df_reg.dropna(inplace=True)\n",
        "\n",
        "# Print out the resulting columns and shape to verify the encoding and cleaning\n",
        "print(\"Columns after one-hot encoding and dropping NaNs:\")\n",
        "print(df_reg.columns)\n",
        "print(\"DataFrame shape after dropping NaNs:\", df_reg.shape)\n"
      ],
      "metadata": {
        "id": "kGCkPe3kuz-q",
        "colab": {
          "base_uri": "https://localhost:8080/"
        },
        "outputId": "57c48806-9809-4f58-c3ac-8f2bb2ce1a45"
      },
      "execution_count": null,
      "outputs": [
        {
          "output_type": "stream",
          "name": "stdout",
          "text": [
            "Columns after one-hot encoding and dropping NaNs:\n",
            "Index(['BEDS', 'BATHS', 'SQUARE_FEET', 'LOT_SIZE', 'YEAR_BUILT', 'walkScore',\n",
            "       'transitScore', 'bikeScore', 'prime_rating', 'middle_rating',\n",
            "       'high_rating', 'PRICE', 'PROPERTY_TYPE_Multi-Family (2-4 Unit)',\n",
            "       'PROPERTY_TYPE_Multi-Family (5+ Unit)', 'PROPERTY_TYPE_Other',\n",
            "       'PROPERTY_TYPE_Single Family Residential', 'PROPERTY_TYPE_Townhouse',\n",
            "       'ZIP_OR_POSTAL_CODE_60611.0', 'ZIP_OR_POSTAL_CODE_60613.0',\n",
            "       'ZIP_OR_POSTAL_CODE_60614.0', 'ZIP_OR_POSTAL_CODE_60618.0',\n",
            "       'ZIP_OR_POSTAL_CODE_60641.0', 'ZIP_OR_POSTAL_CODE_60657.0'],\n",
            "      dtype='object')\n",
            "DataFrame shape after dropping NaNs: (130, 23)\n"
          ]
        }
      ]
    },
    {
      "cell_type": "markdown",
      "source": [
        "# Fit a linear regression model, and evaluate MSE on validation data."
      ],
      "metadata": {
        "id": "LbqhtVh7u0QY"
      }
    },
    {
      "cell_type": "code",
      "source": [
        "from sklearn.model_selection import train_test_split\n",
        "from sklearn.linear_model import LinearRegression\n",
        "from sklearn.metrics import mean_squared_error\n",
        "\n",
        "# Assume df_reg is already prepared (with one-hot encoding done on categorical features) and cleaned.\n",
        "# It contains a 'PRICE' column as the target.\n",
        "\n",
        "# Split the entire dataset into training (70%) and a temporary set (30%)\n",
        "train_df, temp_df = train_test_split(df_reg, test_size=0.30, random_state=42)\n",
        "\n",
        "# Split the temporary set into validation (approx. 20% overall) and testing (approx. 10% overall)\n",
        "# Note: Using test_size=0.34 on temp_df gives ~10% of overall data for testing, and ~20% for validation.\n",
        "val_df, test_df = train_test_split(temp_df, test_size=0.34, random_state=42)\n",
        "\n",
        "# Separate features and target for each set\n",
        "X_train = train_df.drop('PRICE', axis=1)\n",
        "y_train = train_df['PRICE']\n",
        "\n",
        "X_val = val_df.drop('PRICE', axis=1)\n",
        "y_val = val_df['PRICE']\n",
        "\n",
        "X_test = test_df.drop('PRICE', axis=1)\n",
        "y_test = test_df['PRICE']\n",
        "\n",
        "# Fit a linear regression model on the training data\n",
        "linreg_model = LinearRegression()\n",
        "linreg_model.fit(X_train, y_train)\n",
        "\n",
        "# Predict on the validation set and compute the MSE\n",
        "y_val_pred = linreg_model.predict(X_val)\n",
        "MSE_val = mean_squared_error(y_val, y_val_pred)\n",
        "print(\"Validation MSE:\", MSE_val)\n",
        "\n",
        "# Optionally, evaluate on the test set as well\n",
        "y_test_pred = linreg_model.predict(X_test)\n",
        "MSE_test = mean_squared_error(y_test, y_test_pred)\n",
        "print(\"Test MSE:\", MSE_test)\n"
      ],
      "metadata": {
        "id": "JUYcOhGKu5IW",
        "colab": {
          "base_uri": "https://localhost:8080/"
        },
        "outputId": "8d7ba775-29ab-4704-9d53-0aa6bde4ddf7"
      },
      "execution_count": null,
      "outputs": [
        {
          "output_type": "stream",
          "name": "stdout",
          "text": [
            "Validation MSE: 356639636611.08765\n",
            "Test MSE: 2484939633098.2466\n"
          ]
        }
      ]
    },
    {
      "cell_type": "markdown",
      "source": [
        "# Fit a Ridge regression model and a Lasso regression model, with the penalty parameters 𝜆 chosen by 5-fold cross validation."
      ],
      "metadata": {
        "id": "IUjNd7d3u5ZA"
      }
    },
    {
      "cell_type": "code",
      "source": [
        "from sklearn.linear_model import RidgeCV, LassoCV\n",
        "import numpy as np\n",
        "from sklearn.metrics import mean_squared_error\n",
        "\n",
        "# Define a range of λ values for Ridge and Lasso\n",
        "ridge_alphas = np.linspace(0.1, 1000, 100)  # 100 candidate values between 0.1 and 1000\n",
        "lasso_alphas = np.linspace(0, 15, 100)        # 100 candidate values between 0 and 15\n",
        "\n",
        "# --- Ridge Regression ---\n",
        "ridge_cv = RidgeCV(alphas=ridge_alphas, cv=5)\n",
        "ridge_cv.fit(X_train, y_train)\n",
        "print(\"Chosen λ for Ridge:\", ridge_cv.alpha_)\n",
        "\n",
        "# Predict on the validation set for Ridge\n",
        "ridge_val_pred = ridge_cv.predict(X_val)\n",
        "ridge_val_mse = mean_squared_error(y_val, ridge_val_pred)\n",
        "print(\"Validation MSE for Ridge:\", ridge_val_mse)\n",
        "\n",
        "# --- Lasso Regression ---\n",
        "lasso_cv = LassoCV(alphas=lasso_alphas, cv=5, max_iter=10000, random_state=42)\n",
        "lasso_cv.fit(X_train, y_train)\n",
        "print(\"Chosen λ for Lasso:\", lasso_cv.alpha_)\n",
        "\n",
        "# Predict on the validation set for Lasso\n",
        "lasso_val_pred = lasso_cv.predict(X_val)\n",
        "lasso_val_mse = mean_squared_error(y_val, lasso_val_pred)\n",
        "print(\"Validation MSE for Lasso:\", lasso_val_mse)\n"
      ],
      "metadata": {
        "id": "lHLNE8FCu8nh",
        "colab": {
          "base_uri": "https://localhost:8080/"
        },
        "outputId": "a7fabb35-3bab-4ba2-d78a-a06be00fe8a9"
      },
      "execution_count": null,
      "outputs": [
        {
          "output_type": "stream",
          "name": "stdout",
          "text": [
            "Chosen λ for Ridge: 293.0\n",
            "Validation MSE for Ridge: 269059537937.07767\n",
            "Chosen λ for Lasso: 15.0\n",
            "Validation MSE for Lasso: 356697434301.4832\n"
          ]
        }
      ]
    },
    {
      "cell_type": "markdown",
      "source": [
        "The model is further expanded to include additional predictors such as:\n",
        "\n",
        "- **Categorical Variables**: `PROPERTY_TYPE`, `ZIP_OR_POSTAL_CODE` (one-hot encoded)\n",
        "- **Numerical Variables**: `LOT_SIZE`, `YEAR_BUILT`, `walkScore`, `transitScore`, `bikeScore`, `prime_rating`, `middle_rating`, `high_rating`\n",
        "\n",
        "### Linear Regression on the Expanded Set\n",
        "\n",
        "When fitting a standard linear regression model to this larger set, the validation MSE is very high—a common occurrence when many collinear predictors are used without regularization.\n",
        "\n",
        "### Ridge Regression\n",
        "\n",
        "Using Ridge regression with 5-fold cross-validation, the following results are obtained:\n",
        "\n",
        "- **Chosen λ (alpha)**: ≈ **293.0**\n",
        "- **Validation MSE**: ≈ **2.69 × 10¹¹**\n",
        "- **Test MSE**: ≈ **3.15 × 10¹²**\n",
        "\n",
        "**Discussion:**\n",
        "- Ridge regression shrinks coefficients to control for multicollinearity without completely eliminating any predictor.\n",
        "- Based on the validation MSE, Ridge performs better than standard linear regression in this setting.\n"
      ],
      "metadata": {
        "id": "LyeBPIvGINRR"
      }
    },
    {
      "cell_type": "markdown",
      "source": [
        "# Now choose the model among linear regression, Ridge and Lasso with the best validation MSE."
      ],
      "metadata": {
        "id": "8qTBvcekvClk"
      }
    },
    {
      "cell_type": "code",
      "source": [
        "from sklearn.linear_model import RidgeCV\n",
        "from sklearn.metrics import mean_squared_error\n",
        "import numpy as np\n",
        "\n",
        "# Define a range of alpha values for Ridge\n",
        "ridge_alphas = np.linspace(0.1, 1000, 100)\n",
        "\n",
        "# Initialize and fit RidgeCV on the training data\n",
        "ridge_cv = RidgeCV(alphas=ridge_alphas, cv=5)\n",
        "ridge_cv.fit(X_train, y_train)\n",
        "\n",
        "# Now, make predictions on the test set\n",
        "y_test_pred_ridge = ridge_cv.predict(X_test)\n",
        "\n",
        "# Compute test MSE\n",
        "test_mse_ridge = mean_squared_error(y_test, y_test_pred_ridge)\n",
        "print(\"Test MSE for Ridge:\", test_mse_ridge)\n"
      ],
      "metadata": {
        "id": "QP4z35yBzzrw",
        "colab": {
          "base_uri": "https://localhost:8080/"
        },
        "outputId": "a883267f-22a8-4045-c1c8-bf7cfcb3c17f"
      },
      "execution_count": null,
      "outputs": [
        {
          "output_type": "stream",
          "name": "stdout",
          "text": [
            "Test MSE for Ridge: 3149185650785.4204\n"
          ]
        }
      ]
    },
    {
      "cell_type": "markdown",
      "source": [
        "### Final Model Choice\n",
        "\n",
        "Based on the lowest validation MSE, **Ridge regression** is selected as the final model for predicting **PRICE** on the expanded feature set.\n"
      ],
      "metadata": {
        "id": "Q2j8PexLIezL"
      }
    },
    {
      "cell_type": "markdown",
      "source": [
        "# Part II Classification"
      ],
      "metadata": {
        "id": "B3RXo5jtVHeY"
      }
    },
    {
      "cell_type": "code",
      "source": [
        "import pandas as pd\n",
        "import numpy as np\n",
        "import matplotlib.pyplot as plt\n",
        "import seaborn as sns\n",
        "import warnings\n",
        "import datetime\n",
        "warnings.filterwarnings(\"ignore\")\n",
        "plt.rcParams['figure.dpi'] = 100\n",
        "plt.rcParams['savefig.dpi'] = 100\n",
        "\n",
        "# Calculate Days on Market = sold date - list date\n",
        "houses = pd.read_csv('houses.csv')\n",
        "houses = houses[~houses.eq('0.0').any(axis=1)]\n",
        "houses = houses[~houses.eq('0').any(axis=1)]\n",
        "houses['LIST_DATE'] = houses['LIST_DATE'].apply(lambda x: datetime.datetime.strptime(x, '%Y-%m-%d').date())\n",
        "houses['SOLD_DATE'] = houses['SOLD_DATE'].apply(lambda x: datetime.datetime.strptime(x, '%Y-%m-%d').date())\n",
        "\n",
        "houses['Days_on_Market'] = (houses['SOLD_DATE']-houses['LIST_DATE']).apply(lambda x: x.days)\n"
      ],
      "metadata": {
        "id": "vpmTMz4mVeUW"
      },
      "execution_count": null,
      "outputs": []
    },
    {
      "cell_type": "code",
      "execution_count": null,
      "metadata": {
        "id": "-5_YVJtzhekO",
        "colab": {
          "base_uri": "https://localhost:8080/",
          "height": 335
        },
        "outputId": "825987f8-0cd6-44e2-de87-0fc63e2027df"
      },
      "outputs": [
        {
          "output_type": "execute_result",
          "data": {
            "text/plain": [
              "count     757.000000\n",
              "mean      142.120211\n",
              "std       478.872588\n",
              "min         0.000000\n",
              "25%        40.000000\n",
              "50%        62.000000\n",
              "75%       105.000000\n",
              "max      6085.000000\n",
              "Name: Days_on_Market, dtype: float64"
            ],
            "text/html": [
              "<div>\n",
              "<style scoped>\n",
              "    .dataframe tbody tr th:only-of-type {\n",
              "        vertical-align: middle;\n",
              "    }\n",
              "\n",
              "    .dataframe tbody tr th {\n",
              "        vertical-align: top;\n",
              "    }\n",
              "\n",
              "    .dataframe thead th {\n",
              "        text-align: right;\n",
              "    }\n",
              "</style>\n",
              "<table border=\"1\" class=\"dataframe\">\n",
              "  <thead>\n",
              "    <tr style=\"text-align: right;\">\n",
              "      <th></th>\n",
              "      <th>Days_on_Market</th>\n",
              "    </tr>\n",
              "  </thead>\n",
              "  <tbody>\n",
              "    <tr>\n",
              "      <th>count</th>\n",
              "      <td>757.000000</td>\n",
              "    </tr>\n",
              "    <tr>\n",
              "      <th>mean</th>\n",
              "      <td>142.120211</td>\n",
              "    </tr>\n",
              "    <tr>\n",
              "      <th>std</th>\n",
              "      <td>478.872588</td>\n",
              "    </tr>\n",
              "    <tr>\n",
              "      <th>min</th>\n",
              "      <td>0.000000</td>\n",
              "    </tr>\n",
              "    <tr>\n",
              "      <th>25%</th>\n",
              "      <td>40.000000</td>\n",
              "    </tr>\n",
              "    <tr>\n",
              "      <th>50%</th>\n",
              "      <td>62.000000</td>\n",
              "    </tr>\n",
              "    <tr>\n",
              "      <th>75%</th>\n",
              "      <td>105.000000</td>\n",
              "    </tr>\n",
              "    <tr>\n",
              "      <th>max</th>\n",
              "      <td>6085.000000</td>\n",
              "    </tr>\n",
              "  </tbody>\n",
              "</table>\n",
              "</div><br><label><b>dtype:</b> float64</label>"
            ]
          },
          "metadata": {},
          "execution_count": 12
        }
      ],
      "source": [
        "houses['Days_on_Market'].describe()"
      ]
    },
    {
      "cell_type": "code",
      "source": [
        "# prompt: Generate a histogram of houses['Days_on_Market'] with bins=20. Write the number on each bars. Label the bins\n",
        "\n",
        "import matplotlib.pyplot as plt\n",
        "\n",
        "# Assuming 'houses' DataFrame is already loaded and processed as in your provided code\n",
        "\n",
        "# Create the histogram\n",
        "plt.figure(figsize=(10, 6))\n",
        "n, bins, patches = plt.hist(houses['Days_on_Market'], bins=20, alpha=0.7, rwidth=0.85)\n",
        "\n",
        "# Add the count on top of each bar\n",
        "for i in range(len(n)):\n",
        "    plt.text(bins[i] + (bins[1]-bins[0])/2, n[i], int(n[i]), ha='center', va='bottom')\n",
        "\n",
        "# Customize the plot\n",
        "plt.xlabel('Days on Market')\n",
        "plt.ylabel('Frequency')\n",
        "plt.title('Distribution of Days on Market')\n",
        "\n",
        "# Label the bins\n",
        "bin_labels = [f'{int(bins[i])} - {int(bins[i+1])}' for i in range(len(bins)-1)]\n",
        "plt.xticks(bins[:-1] + (bins[1]-bins[0])/2, bin_labels, rotation=45, ha='right')\n",
        "\n",
        "\n",
        "plt.tight_layout()\n",
        "plt.show()\n"
      ],
      "metadata": {
        "id": "QJnXBfmkbDda",
        "colab": {
          "base_uri": "https://localhost:8080/",
          "height": 607
        },
        "outputId": "69437d79-49fa-44dc-e494-78d9323037d7"
      },
      "execution_count": null,
      "outputs": [
        {
          "output_type": "display_data",
          "data": {
            "text/plain": [
              "<Figure size 1000x600 with 1 Axes>"
            ],
            "image/png": "[encoded data removed]"
          },
          "metadata": {}
        }
      ]
    },
    {
      "cell_type": "markdown",
      "source": [
        "# **Created a new column ‘Sell_fast’, which is a binary variable which equals to 1 if the property is sold**"
      ],
      "metadata": {
        "id": "Ty1nE0Oklkf7"
      }
    },
    {
      "cell_type": "code",
      "source": [
        "# prompt: Create a new column ‘Sell_fast’, which is a binary variable which equals to 1 if the property is sold\n",
        "# faster than 70% of all listings, and 0 otherwise\n",
        "\n",
        "# Calculate the 70th percentile of Days_on_Market\n",
        "percentile_70 = houses['Days_on_Market'].quantile(0.7)\n",
        "\n",
        "# Create the 'Sell_fast' column\n",
        "houses['Sell_fast'] = (houses['Days_on_Market'] < percentile_70).astype(int)\n",
        "houses.head()"
      ],
      "metadata": {
        "id": "9IjEYXthcmnD",
        "colab": {
          "base_uri": "https://localhost:8080/",
          "height": 464
        },
        "outputId": "757f190f-07ff-483a-dda1-53f1dff82d26"
      },
      "execution_count": null,
      "outputs": [
        {
          "output_type": "execute_result",
          "data": {
            "text/plain": [
              "   SALE_TYPE   SOLD_DATE PROPERTY_TYPE                     ADDRESS     CITY  \\\n",
              "0  PAST SALE  2025-02-27   Condo/Co-op      511 W Division St #606  Chicago   \n",
              "1  PAST SALE  2025-02-20   Condo/Co-op         4 E Elm St Unit 21S  Chicago   \n",
              "2  PAST SALE  2025-01-03   Condo/Co-op  1501 N State Pkwy Unit 20E  Chicago   \n",
              "3  PAST SALE  2024-12-16   Condo/Co-op   1510 N Dearborn Pkwy #502  Chicago   \n",
              "4  PAST SALE  2025-01-13   Condo/Co-op    1030 N State St Unit 35D  Chicago   \n",
              "\n",
              "  STATE_OR_PROVINCE  ZIP_OR_POSTAL_CODE      PRICE  BEDS  BATHS  ...  \\\n",
              "0                IL             60610.0   410000.0   2.0    2.0  ...   \n",
              "1                IL             60611.0  3802500.0   3.0    3.5  ...   \n",
              "2                IL             60610.0  1990000.0   3.0    3.5  ...   \n",
              "3                IL             60610.0   802500.0   2.0    2.5  ...   \n",
              "4                IL             60610.0   340000.0   1.0    1.0  ...   \n",
              "\n",
              "    LIST_DATE  list_price  walkScore  transitScore  bikeScore  prime_rating  \\\n",
              "0  2024-10-16         0.0       90.0          82.0       83.0           0.0   \n",
              "1  2024-09-16   3900000.0       99.0          89.0       86.0           0.0   \n",
              "2  2024-11-06   1990000.0       93.0          81.0       92.0           0.0   \n",
              "3  2024-11-04    825000.0       97.0          82.0       93.0           0.0   \n",
              "4  2024-08-25    340000.0      100.0          91.0       84.0           0.0   \n",
              "\n",
              "   middle_rating high_rating  Days_on_Market  Sell_fast  \n",
              "0            0.0         9.0             134          0  \n",
              "1            0.0         9.0             157          0  \n",
              "2            0.0         9.0              58          1  \n",
              "3            0.0         9.0              42          1  \n",
              "4            0.0         9.0             141          0  \n",
              "\n",
              "[5 rows x 37 columns]"
            ],
            "text/html": [
              "\n",
              "  <div id=\"df-186a63b1-d0eb-4310-b0b0-e9ba76ddda44\" class=\"colab-df-container\">\n",
              "    <div>\n",
              "<style scoped>\n",
              "    .dataframe tbody tr th:only-of-type {\n",
              "        vertical-align: middle;\n",
              "    }\n",
              "\n",
              "    .dataframe tbody tr th {\n",
              "        vertical-align: top;\n",
              "    }\n",
              "\n",
              "    .dataframe thead th {\n",
              "        text-align: right;\n",
              "    }\n",
              "</style>\n",
              "<table border=\"1\" class=\"dataframe\">\n",
              "  <thead>\n",
              "    <tr style=\"text-align: right;\">\n",
              "      <th></th>\n",
              "      <th>SALE_TYPE</th>\n",
              "      <th>SOLD_DATE</th>\n",
              "      <th>PROPERTY_TYPE</th>\n",
              "      <th>ADDRESS</th>\n",
              "      <th>CITY</th>\n",
              "      <th>STATE_OR_PROVINCE</th>\n",
              "      <th>ZIP_OR_POSTAL_CODE</th>\n",
              "      <th>PRICE</th>\n",
              "      <th>BEDS</th>\n",
              "      <th>BATHS</th>\n",
              "      <th>...</th>\n",
              "      <th>LIST_DATE</th>\n",
              "      <th>list_price</th>\n",
              "      <th>walkScore</th>\n",
              "      <th>transitScore</th>\n",
              "      <th>bikeScore</th>\n",
              "      <th>prime_rating</th>\n",
              "      <th>middle_rating</th>\n",
              "      <th>high_rating</th>\n",
              "      <th>Days_on_Market</th>\n",
              "      <th>Sell_fast</th>\n",
              "    </tr>\n",
              "  </thead>\n",
              "  <tbody>\n",
              "    <tr>\n",
              "      <th>0</th>\n",
              "      <td>PAST SALE</td>\n",
              "      <td>2025-02-27</td>\n",
              "      <td>Condo/Co-op</td>\n",
              "      <td>511 W Division St #606</td>\n",
              "      <td>Chicago</td>\n",
              "      <td>IL</td>\n",
              "      <td>60610.0</td>\n",
              "      <td>410000.0</td>\n",
              "      <td>2.0</td>\n",
              "      <td>2.0</td>\n",
              "      <td>...</td>\n",
              "      <td>2024-10-16</td>\n",
              "      <td>0.0</td>\n",
              "      <td>90.0</td>\n",
              "      <td>82.0</td>\n",
              "      <td>83.0</td>\n",
              "      <td>0.0</td>\n",
              "      <td>0.0</td>\n",
              "      <td>9.0</td>\n",
              "      <td>134</td>\n",
              "      <td>0</td>\n",
              "    </tr>\n",
              "    <tr>\n",
              "      <th>1</th>\n",
              "      <td>PAST SALE</td>\n",
              "      <td>2025-02-20</td>\n",
              "      <td>Condo/Co-op</td>\n",
              "      <td>4 E Elm St Unit 21S</td>\n",
              "      <td>Chicago</td>\n",
              "      <td>IL</td>\n",
              "      <td>60611.0</td>\n",
              "      <td>3802500.0</td>\n",
              "      <td>3.0</td>\n",
              "      <td>3.5</td>\n",
              "      <td>...</td>\n",
              "      <td>2024-09-16</td>\n",
              "      <td>3900000.0</td>\n",
              "      <td>99.0</td>\n",
              "      <td>89.0</td>\n",
              "      <td>86.0</td>\n",
              "      <td>0.0</td>\n",
              "      <td>0.0</td>\n",
              "      <td>9.0</td>\n",
              "      <td>157</td>\n",
              "      <td>0</td>\n",
              "    </tr>\n",
              "    <tr>\n",
              "      <th>2</th>\n",
              "      <td>PAST SALE</td>\n",
              "      <td>2025-01-03</td>\n",
              "      <td>Condo/Co-op</td>\n",
              "      <td>1501 N State Pkwy Unit 20E</td>\n",
              "      <td>Chicago</td>\n",
              "      <td>IL</td>\n",
              "      <td>60610.0</td>\n",
              "      <td>1990000.0</td>\n",
              "      <td>3.0</td>\n",
              "      <td>3.5</td>\n",
              "      <td>...</td>\n",
              "      <td>2024-11-06</td>\n",
              "      <td>1990000.0</td>\n",
              "      <td>93.0</td>\n",
              "      <td>81.0</td>\n",
              "      <td>92.0</td>\n",
              "      <td>0.0</td>\n",
              "      <td>0.0</td>\n",
              "      <td>9.0</td>\n",
              "      <td>58</td>\n",
              "      <td>1</td>\n",
              "    </tr>\n",
              "    <tr>\n",
              "      <th>3</th>\n",
              "      <td>PAST SALE</td>\n",
              "      <td>2024-12-16</td>\n",
              "      <td>Condo/Co-op</td>\n",
              "      <td>1510 N Dearborn Pkwy #502</td>\n",
              "      <td>Chicago</td>\n",
              "      <td>IL</td>\n",
              "      <td>60610.0</td>\n",
              "      <td>802500.0</td>\n",
              "      <td>2.0</td>\n",
              "      <td>2.5</td>\n",
              "      <td>...</td>\n",
              "      <td>2024-11-04</td>\n",
              "      <td>825000.0</td>\n",
              "      <td>97.0</td>\n",
              "      <td>82.0</td>\n",
              "      <td>93.0</td>\n",
              "      <td>0.0</td>\n",
              "      <td>0.0</td>\n",
              "      <td>9.0</td>\n",
              "      <td>42</td>\n",
              "      <td>1</td>\n",
              "    </tr>\n",
              "    <tr>\n",
              "      <th>4</th>\n",
              "      <td>PAST SALE</td>\n",
              "      <td>2025-01-13</td>\n",
              "      <td>Condo/Co-op</td>\n",
              "      <td>1030 N State St Unit 35D</td>\n",
              "      <td>Chicago</td>\n",
              "      <td>IL</td>\n",
              "      <td>60610.0</td>\n",
              "      <td>340000.0</td>\n",
              "      <td>1.0</td>\n",
              "      <td>1.0</td>\n",
              "      <td>...</td>\n",
              "      <td>2024-08-25</td>\n",
              "      <td>340000.0</td>\n",
              "      <td>100.0</td>\n",
              "      <td>91.0</td>\n",
              "      <td>84.0</td>\n",
              "      <td>0.0</td>\n",
              "      <td>0.0</td>\n",
              "      <td>9.0</td>\n",
              "      <td>141</td>\n",
              "      <td>0</td>\n",
              "    </tr>\n",
              "  </tbody>\n",
              "</table>\n",
              "<p>5 rows × 37 columns</p>\n",
              "</div>\n",
              "    <div class=\"colab-df-buttons\">\n",
              "\n",
              "  <div class=\"colab-df-container\">\n",
              "    <button class=\"colab-df-convert\" onclick=\"convertToInteractive('df-186a63b1-d0eb-4310-b0b0-e9ba76ddda44')\"\n",
              "            title=\"Convert this dataframe to an interactive table.\"\n",
              "            style=\"display:none;\">\n",
              "\n",
              "  <svg xmlns=\"http://www.w3.org/2000/svg\" height=\"24px\" viewBox=\"0 -960 960 960\">\n",
              "    <path d=\"M120-120v-720h720v720H120Zm60-500h600v-160H180v160Zm220 220h160v-160H400v160Zm0 220h160v-160H400v160ZM180-400h160v-160H180v160Zm440 0h160v-160H620v160ZM180-180h160v-160H180v160Zm440 0h160v-160H620v160Z\"/>\n",
              "  </svg>\n",
              "    </button>\n",
              "\n",
              "  <style>\n",
              "    .colab-df-container {\n",
              "      display:flex;\n",
              "      gap: 12px;\n",
              "    }\n",
              "\n",
              "    .colab-df-convert {\n",
              "      background-color: #E8F0FE;\n",
              "      border: none;\n",
              "      border-radius: 50%;\n",
              "      cursor: pointer;\n",
              "      display: none;\n",
              "      fill: #1967D2;\n",
              "      height: 32px;\n",
              "      padding: 0 0 0 0;\n",
              "      width: 32px;\n",
              "    }\n",
              "\n",
              "    .colab-df-convert:hover {\n",
              "      background-color: #E2EBFA;\n",
              "      box-shadow: 0px 1px 2px rgba(60, 64, 67, 0.3), 0px 1px 3px 1px rgba(60, 64, 67, 0.15);\n",
              "      fill: #174EA6;\n",
              "    }\n",
              "\n",
              "    .colab-df-buttons div {\n",
              "      margin-bottom: 4px;\n",
              "    }\n",
              "\n",
              "    [theme=dark] .colab-df-convert {\n",
              "      background-color: #3B4455;\n",
              "      fill: #D2E3FC;\n",
              "    }\n",
              "\n",
              "    [theme=dark] .colab-df-convert:hover {\n",
              "      background-color: #434B5C;\n",
              "      box-shadow: 0px 1px 3px 1px rgba(0, 0, 0, 0.15);\n",
              "      filter: drop-shadow(0px 1px 2px rgba(0, 0, 0, 0.3));\n",
              "      fill: #FFFFFF;\n",
              "    }\n",
              "  </style>\n",
              "\n",
              "    <script>\n",
              "      const buttonEl =\n",
              "        document.querySelector('#df-186a63b1-d0eb-4310-b0b0-e9ba76ddda44 button.colab-df-convert');\n",
              "      buttonEl.style.display =\n",
              "        google.colab.kernel.accessAllowed ? 'block' : 'none';\n",
              "\n",
              "      async function convertToInteractive(key) {\n",
              "        const element = document.querySelector('#df-186a63b1-d0eb-4310-b0b0-e9ba76ddda44');\n",
              "        const dataTable =\n",
              "          await google.colab.kernel.invokeFunction('convertToInteractive',\n",
              "                                                    [key], {});\n",
              "        if (!dataTable) return;\n",
              "\n",
              "        const docLinkHtml = 'Like what you see? Visit the ' +\n",
              "          '<a target=\"_blank\" href=https://colab.research.google.com/notebooks/data_table.ipynb>data table notebook</a>'\n",
              "          + ' to learn more about interactive tables.';\n",
              "        element.innerHTML = '';\n",
              "        dataTable['output_type'] = 'display_data';\n",
              "        await google.colab.output.renderOutput(dataTable, element);\n",
              "        const docLink = document.createElement('div');\n",
              "        docLink.innerHTML = docLinkHtml;\n",
              "        element.appendChild(docLink);\n",
              "      }\n",
              "    </script>\n",
              "  </div>\n",
              "\n",
              "\n",
              "<div id=\"df-33dfb9e5-e062-4b02-900f-eb6edfdb08ab\">\n",
              "  <button class=\"colab-df-quickchart\" onclick=\"quickchart('df-33dfb9e5-e062-4b02-900f-eb6edfdb08ab')\"\n",
              "            title=\"Suggest charts\"\n",
              "            style=\"display:none;\">\n",
              "\n",
              "<svg xmlns=\"http://www.w3.org/2000/svg\" height=\"24px\"viewBox=\"0 0 24 24\"\n",
              "     width=\"24px\">\n",
              "    <g>\n",
              "        <path d=\"M19 3H5c-1.1 0-2 .9-2 2v14c0 1.1.9 2 2 2h14c1.1 0 2-.9 2-2V5c0-1.1-.9-2-2-2zM9 17H7v-7h2v7zm4 0h-2V7h2v10zm4 0h-2v-4h2v4z\"/>\n",
              "    </g>\n",
              "</svg>\n",
              "  </button>\n",
              "\n",
              "<style>\n",
              "  .colab-df-quickchart {\n",
              "      --bg-color: #E8F0FE;\n",
              "      --fill-color: #1967D2;\n",
              "      --hover-bg-color: #E2EBFA;\n",
              "      --hover-fill-color: #174EA6;\n",
              "      --disabled-fill-color: #AAA;\n",
              "      --disabled-bg-color: #DDD;\n",
              "  }\n",
              "\n",
              "  [theme=dark] .colab-df-quickchart {\n",
              "      --bg-color: #3B4455;\n",
              "      --fill-color: #D2E3FC;\n",
              "      --hover-bg-color: #434B5C;\n",
              "      --hover-fill-color: #FFFFFF;\n",
              "      --disabled-bg-color: #3B4455;\n",
              "      --disabled-fill-color: #666;\n",
              "  }\n",
              "\n",
              "  .colab-df-quickchart {\n",
              "    background-color: var(--bg-color);\n",
              "    border: none;\n",
              "    border-radius: 50%;\n",
              "    cursor: pointer;\n",
              "    display: none;\n",
              "    fill: var(--fill-color);\n",
              "    height: 32px;\n",
              "    padding: 0;\n",
              "    width: 32px;\n",
              "  }\n",
              "\n",
              "  .colab-df-quickchart:hover {\n",
              "    background-color: var(--hover-bg-color);\n",
              "    box-shadow: 0 1px 2px rgba(60, 64, 67, 0.3), 0 1px 3px 1px rgba(60, 64, 67, 0.15);\n",
              "    fill: var(--button-hover-fill-color);\n",
              "  }\n",
              "\n",
              "  .colab-df-quickchart-complete:disabled,\n",
              "  .colab-df-quickchart-complete:disabled:hover {\n",
              "    background-color: var(--disabled-bg-color);\n",
              "    fill: var(--disabled-fill-color);\n",
              "    box-shadow: none;\n",
              "  }\n",
              "\n",
              "  .colab-df-spinner {\n",
              "    border: 2px solid var(--fill-color);\n",
              "    border-color: transparent;\n",
              "    border-bottom-color: var(--fill-color);\n",
              "    animation:\n",
              "      spin 1s steps(1) infinite;\n",
              "  }\n",
              "\n",
              "  @keyframes spin {\n",
              "    0% {\n",
              "      border-color: transparent;\n",
              "      border-bottom-color: var(--fill-color);\n",
              "      border-left-color: var(--fill-color);\n",
              "    }\n",
              "    20% {\n",
              "      border-color: transparent;\n",
              "      border-left-color: var(--fill-color);\n",
              "      border-top-color: var(--fill-color);\n",
              "    }\n",
              "    30% {\n",
              "      border-color: transparent;\n",
              "      border-left-color: var(--fill-color);\n",
              "      border-top-color: var(--fill-color);\n",
              "      border-right-color: var(--fill-color);\n",
              "    }\n",
              "    40% {\n",
              "      border-color: transparent;\n",
              "      border-right-color: var(--fill-color);\n",
              "      border-top-color: var(--fill-color);\n",
              "    }\n",
              "    60% {\n",
              "      border-color: transparent;\n",
              "      border-right-color: var(--fill-color);\n",
              "    }\n",
              "    80% {\n",
              "      border-color: transparent;\n",
              "      border-right-color: var(--fill-color);\n",
              "      border-bottom-color: var(--fill-color);\n",
              "    }\n",
              "    90% {\n",
              "      border-color: transparent;\n",
              "      border-bottom-color: var(--fill-color);\n",
              "    }\n",
              "  }\n",
              "</style>\n",
              "\n",
              "  <script>\n",
              "    async function quickchart(key) {\n",
              "      const quickchartButtonEl =\n",
              "        document.querySelector('#' + key + ' button');\n",
              "      quickchartButtonEl.disabled = true;  // To prevent multiple clicks.\n",
              "      quickchartButtonEl.classList.add('colab-df-spinner');\n",
              "      try {\n",
              "        const charts = await google.colab.kernel.invokeFunction(\n",
              "            'suggestCharts', [key], {});\n",
              "      } catch (error) {\n",
              "        console.error('Error during call to suggestCharts:', error);\n",
              "      }\n",
              "      quickchartButtonEl.classList.remove('colab-df-spinner');\n",
              "      quickchartButtonEl.classList.add('colab-df-quickchart-complete');\n",
              "    }\n",
              "    (() => {\n",
              "      let quickchartButtonEl =\n",
              "        document.querySelector('#df-33dfb9e5-e062-4b02-900f-eb6edfdb08ab button');\n",
              "      quickchartButtonEl.style.display =\n",
              "        google.colab.kernel.accessAllowed ? 'block' : 'none';\n",
              "    })();\n",
              "  </script>\n",
              "</div>\n",
              "\n",
              "    </div>\n",
              "  </div>\n"
            ],
            "application/vnd.google.colaboratory.intrinsic+json": {
              "type": "dataframe",
              "variable_name": "houses"
            }
          },
          "metadata": {},
          "execution_count": 14
        }
      ]
    },
    {
      "cell_type": "code",
      "source": [
        "# prompt: count the number of listing which sold fast and didnt sell fast. add a bar chart to visualize it. add count to each bar\n",
        "\n",
        "import matplotlib.pyplot as plt\n",
        "# Assuming 'houses' DataFrame is already loaded and processed as in your provided code\n",
        "\n",
        "# Count the number of listings that sold fast and didn't sell fast\n",
        "sold_fast_count = houses['Sell_fast'].sum()\n",
        "didnt_sell_fast_count = len(houses) - sold_fast_count\n",
        "\n",
        "# Create a bar chart\n",
        "categories = ['Sold Fast', 'Didn\\'t Sell Fast']\n",
        "counts = [sold_fast_count, didnt_sell_fast_count]\n",
        "\n",
        "plt.figure(figsize=(8, 6))\n",
        "bars = plt.bar(categories, counts, color=['skyblue', 'lightcoral'])\n",
        "\n",
        "# Add count labels on top of each bar\n",
        "for bar, count in zip(bars, counts):\n",
        "    plt.text(bar.get_x() + bar.get_width() / 2, bar.get_height(), count, ha='center', va='bottom')\n",
        "\n",
        "plt.xlabel('Sale Speed')\n",
        "plt.ylabel('Number of Listings')\n",
        "plt.title('Number of Listings Sold Fast vs. Didn\\'t Sell Fast')\n",
        "plt.show()\n"
      ],
      "metadata": {
        "colab": {
          "base_uri": "https://localhost:8080/",
          "height": 564
        },
        "id": "UvjczjISppcN",
        "outputId": "d8975922-b994-41e1-f427-c8769a0db0a9"
      },
      "execution_count": null,
      "outputs": [
        {
          "output_type": "display_data",
          "data": {
            "text/plain": [
              "<Figure size 800x600 with 1 Axes>"
            ],
            "image/png": "[encoded data removed]"
          },
          "metadata": {}
        }
      ]
    },
    {
      "cell_type": "markdown",
      "source": [
        "# **Removed the top 2% and bottom 2% of outlier for in 'list_price'**"
      ],
      "metadata": {
        "id": "6Y32Dfsrk_eU"
      }
    },
    {
      "cell_type": "code",
      "source": [
        "# prompt: For further modeling we will focus on the features ['list_price', 'BEDS', 'BATHS',\n",
        "# 'SQUARE_FEET', 'LOT_SIZE', 'YEAR_BUILT', 'walkScore', 'transitScore',\n",
        "# 'bikeScore', 'prime_rating', 'middle_rating', 'high_rating','Sell Fast'].\n",
        "\n",
        "import numpy as np\n",
        "# Assuming 'houses' DataFrame is already loaded and processed as in your provided code\n",
        "\n",
        "# Features to focus on\n",
        "features = ['list_price', 'BEDS', 'BATHS', 'SQUARE_FEET', 'LOT_SIZE', 'YEAR_BUILT', 'walkScore', 'transitScore', 'bikeScore', 'prime_rating', 'middle_rating', 'high_rating', 'Sell_fast']\n",
        "\n",
        "# Filter the DataFrame to include only the specified features\n",
        "houses_filtered = houses[features]\n",
        "\n",
        "# Handle missing values (replace with 0) -  Consider more sophisticated imputation methods if needed\n",
        "houses_filtered = houses_filtered.fillna(0)\n",
        "\n",
        "# Identify outlier thresholds for 'list_price': remove the top 2% and bottom 2%\n",
        "top2_list_price = np.percentile(houses_filtered['list_price'], 98)\n",
        "bottom2_list_price = np.percentile(houses_filtered['list_price'], 2)\n",
        "\n",
        "# Filter out the outliers in 'list_price'\n",
        "houses_filtered = houses_filtered.loc[(houses_filtered['list_price'] >= bottom2_list_price) & (houses_filtered['list_price'] <= top2_list_price)]\n",
        "\n",
        "# Now houses_filtered contains only the selected features with outliers in 'list_price' removed\n",
        "print(houses_filtered.head())\n"
      ],
      "metadata": {
        "id": "c-CTVZCzqUrP",
        "colab": {
          "base_uri": "https://localhost:8080/"
        },
        "outputId": "1fe8aecf-9cfc-41ea-9350-24112ab7163b"
      },
      "execution_count": null,
      "outputs": [
        {
          "output_type": "stream",
          "name": "stdout",
          "text": [
            "   list_price  BEDS  BATHS  SQUARE_FEET  LOT_SIZE  YEAR_BUILT  walkScore  \\\n",
            "0         0.0   2.0    2.0          0.0       0.0      2007.0       90.0   \n",
            "2   1990000.0   3.0    3.5       3387.0       0.0      1975.0       93.0   \n",
            "3    825000.0   2.0    2.5       2000.0       0.0      1888.0       97.0   \n",
            "4    340000.0   1.0    1.0        800.0       0.0      1970.0      100.0   \n",
            "5         0.0   0.0    0.0          0.0       0.0         0.0       97.0   \n",
            "\n",
            "   transitScore  bikeScore  prime_rating  middle_rating  high_rating  \\\n",
            "0          82.0       83.0           0.0            0.0          9.0   \n",
            "2          81.0       92.0           0.0            0.0          9.0   \n",
            "3          82.0       93.0           0.0            0.0          9.0   \n",
            "4          91.0       84.0           0.0            0.0          9.0   \n",
            "5          85.0       79.0           0.0            0.0          1.0   \n",
            "\n",
            "   Sell_fast  \n",
            "0          0  \n",
            "2          1  \n",
            "3          1  \n",
            "4          0  \n",
            "5          0  \n"
          ]
        }
      ]
    },
    {
      "cell_type": "markdown",
      "source": [
        "# **Split the data into training (75%), validation (20%) and testing (5%) set**\n"
      ],
      "metadata": {
        "id": "KXaOUJAVlfsP"
      }
    },
    {
      "cell_type": "code",
      "source": [
        "# prompt: Split the data into training (75%), validation (20%) and testing (5%) set using the filtered dataframe\n",
        "\n",
        "# Assuming 'houses_filtered' DataFrame is already created as in the previous code\n",
        "\n",
        "# Split data into training, validation, and testing sets\n",
        "X = houses_filtered.drop('Sell_fast', axis=1)  # Features (all columns except 'Sell_fast')\n",
        "y = houses_filtered['Sell_fast']  # Target variable ('Sell_fast')\n",
        "\n",
        "# Split into training (75%) and temporary (25%) sets\n",
        "X_train, X_temp, y_train, y_temp = train_test_split(X, y, test_size=0.25, random_state=42)\n",
        "\n",
        "# Split the temporary set into validation (20% of original) and testing (5% of original)\n",
        "X_val, X_test, y_val, y_test = train_test_split(X_temp, y_temp, test_size=0.2, random_state=42)\n",
        "\n",
        "# Print the shapes of the resulting sets\n",
        "print(\"X_train shape:\", X_train.shape)\n",
        "print(\"y_train shape:\", y_train.shape)\n",
        "print(\"X_val shape:\", X_val.shape)\n",
        "print(\"y_val shape:\", y_val.shape)\n",
        "print(\"X_test shape:\", X_test.shape)\n",
        "print(\"y_test shape:\", y_test.shape)\n"
      ],
      "metadata": {
        "id": "Z18YEgDOt2YZ",
        "colab": {
          "base_uri": "https://localhost:8080/"
        },
        "outputId": "d8c1844a-19b3-4e7c-9b14-fcd61befe798"
      },
      "execution_count": null,
      "outputs": [
        {
          "output_type": "stream",
          "name": "stdout",
          "text": [
            "X_train shape: (555, 12)\n",
            "y_train shape: (555,)\n",
            "X_val shape: (148, 12)\n",
            "y_val shape: (148,)\n",
            "X_test shape: (38, 12)\n",
            "y_test shape: (38,)\n"
          ]
        }
      ]
    },
    {
      "cell_type": "code",
      "source": [
        "# prompt: Is there any outlier for in 'list_price'? If so, remove the top 2% and bottom 2%\n",
        "\n",
        "import numpy as np\n",
        "# Assuming 'houses_filtered' DataFrame is already created as in the previous code\n",
        "\n",
        "# Identify outlier thresholds for 'list_price': remove the top 2% and bottom 2%\n",
        "top2_list_price = np.percentile(houses_filtered['list_price'], 98)\n",
        "bottom2_list_price = np.percentile(houses_filtered['list_price'], 2)\n",
        "\n",
        "# Filter out the outliers in 'list_price'\n",
        "houses_filtered = houses_filtered.loc[(houses_filtered['list_price'] >= bottom2_list_price) & (houses_filtered['list_price'] <= top2_list_price)]\n",
        "\n",
        "# Now houses_filtered contains only the selected features with outliers in 'list_price' removed\n",
        "print(houses_filtered.head())\n"
      ],
      "metadata": {
        "id": "lSdZ79g6uQi4",
        "colab": {
          "base_uri": "https://localhost:8080/"
        },
        "outputId": "20905979-dedd-4fec-da70-48a41175fc7a"
      },
      "execution_count": null,
      "outputs": [
        {
          "output_type": "stream",
          "name": "stdout",
          "text": [
            "   list_price  BEDS  BATHS  SQUARE_FEET  LOT_SIZE  YEAR_BUILT  walkScore  \\\n",
            "0         0.0   2.0    2.0          0.0       0.0      2007.0       90.0   \n",
            "2   1990000.0   3.0    3.5       3387.0       0.0      1975.0       93.0   \n",
            "3    825000.0   2.0    2.5       2000.0       0.0      1888.0       97.0   \n",
            "4    340000.0   1.0    1.0        800.0       0.0      1970.0      100.0   \n",
            "5         0.0   0.0    0.0          0.0       0.0         0.0       97.0   \n",
            "\n",
            "   transitScore  bikeScore  prime_rating  middle_rating  high_rating  \\\n",
            "0          82.0       83.0           0.0            0.0          9.0   \n",
            "2          81.0       92.0           0.0            0.0          9.0   \n",
            "3          82.0       93.0           0.0            0.0          9.0   \n",
            "4          91.0       84.0           0.0            0.0          9.0   \n",
            "5          85.0       79.0           0.0            0.0          1.0   \n",
            "\n",
            "   Sell_fast  \n",
            "0          0  \n",
            "2          1  \n",
            "3          1  \n",
            "4          0  \n",
            "5          0  \n"
          ]
        }
      ]
    },
    {
      "cell_type": "markdown",
      "source": [
        "KNN. Fit a KNN model to training data to predict ‘Sell_fast’, with hyperparameter chosen by\n",
        "5-fold cross validation. Evaluate the performance on validation set."
      ],
      "metadata": {
        "id": "rl-p8mbhx1NX"
      }
    },
    {
      "cell_type": "code",
      "source": [
        "# prompt: # prompt: KNN. Fit a KNN model to training data to predict ‘Sell_fast’, with hyperparameter chosen by\n",
        "# # 5-fold cross validation. Evaluate the performance on validation set. make sure training set data is scaled.\n",
        "\n",
        "from sklearn.preprocessing import MinMaxScaler\n",
        "from sklearn.neighbors import KNeighborsClassifier\n",
        "from sklearn.model_selection import GridSearchCV\n",
        "from sklearn.impute import SimpleImputer  # Import SimpleImputer for handling NaNs\n",
        "\n",
        "# Assuming X_train, X_val, y_train, y_val are already defined as in your code\n",
        "\n",
        "# Scale training data\n",
        "scaler = MinMaxScaler()\n",
        "X_train_scaled = scaler.fit_transform(X_train.select_dtypes(include=np.number))\n",
        "\n",
        "# Scale validation data using the same scaler fitted on training data\n",
        "X_val_scaled = scaler.transform(X_val.select_dtypes(include=np.number))\n",
        "\n",
        "# Define the parameter grid for KNN\n",
        "param_grid = {'n_neighbors': np.arange(1, 21)}  # Test n_neighbors from 1 to 20\n",
        "\n",
        "# Initialize KNN classifier\n",
        "knn = KNeighborsClassifier()\n",
        "\n",
        "# Use GridSearchCV for hyperparameter tuning with 5-fold cross-validation\n",
        "grid_search = GridSearchCV(knn, param_grid, cv=5, scoring='accuracy')\n",
        "\n",
        "# Fit the model to the scaled training data\n",
        "grid_search.fit(X_train_scaled, y_train)\n",
        "\n",
        "# Get the best hyperparameter value\n",
        "best_n_neighbors = grid_search.best_params_['n_neighbors']\n",
        "print(f\"Best n_neighbors: {best_n_neighbors}\")\n",
        "\n",
        "# Train the model with the best hyperparameter on the scaled training data\n",
        "best_knn_scaled_model = KNeighborsClassifier(n_neighbors=best_n_neighbors)\n",
        "best_knn_scaled_model.fit(X_train_scaled, y_train)\n",
        "\n",
        "# Evaluate on the scaled validation set\n",
        "y_pred = best_knn_scaled_model.predict(X_val_scaled)\n",
        "accuracy_knn_val = accuracy_score(y_val, y_pred)\n",
        "print(f\"Validation Accuracy: {accuracy_knn_val}\")\n"
      ],
      "metadata": {
        "colab": {
          "base_uri": "https://localhost:8080/"
        },
        "id": "tl9SgUmP0-4W",
        "outputId": "af636ba4-4cfa-4179-e5a1-d7671ec43f56"
      },
      "execution_count": null,
      "outputs": [
        {
          "output_type": "stream",
          "name": "stdout",
          "text": [
            "Best n_neighbors: 20\n",
            "Validation Accuracy: 0.722972972972973\n"
          ]
        }
      ]
    },
    {
      "cell_type": "markdown",
      "source": [
        "This means the KKN model correctly predicted whether a house would sell fast or not for ~72% of the houses in the validation. This is decent."
      ],
      "metadata": {
        "id": "rE0gCzjTGBmR"
      }
    },
    {
      "cell_type": "markdown",
      "source": [
        "Logistic regression. Fit a Logistic regression model to training data to predict ‘Sell_fast’\n",
        ".\n",
        "Evaluate the performance on validation set."
      ],
      "metadata": {
        "id": "vFwasaUz0hJD"
      }
    },
    {
      "cell_type": "code",
      "source": [
        "# prompt: Logistic regression. Fit a Logistic regression model to training data to predict ‘Sell_fast’\n",
        "# Evaluate the performance on validation set.\n",
        "\n",
        "from sklearn.linear_model import LogisticRegression\n",
        "from sklearn.metrics import accuracy_score\n",
        "from sklearn.impute import SimpleImputer\n",
        "\n",
        "# Assuming X_train, y_train, X_val, y_val are already defined as in the previous code\n",
        "\n",
        "# Initialize the logistic regression model\n",
        "logreg = LogisticRegression(solver='liblinear') # Use a solver that works well with smaller datasets\n",
        "\n",
        "# Impute missing values in training and validation sets\n",
        "imputer = SimpleImputer(strategy='mean')\n",
        "X_train_imputed_log = imputer.fit_transform(X_train.select_dtypes(include=np.number))\n",
        "X_val_imputed_log = imputer.transform(X_val.select_dtypes(include=np.number))\n",
        "\n",
        "\n",
        "# Fit the model to the training data\n",
        "logreg.fit(X_train_imputed_log, y_train)\n",
        "\n",
        "# Make predictions on the validation set\n",
        "y_pred = logreg.predict(X_val_imputed_log)\n",
        "\n",
        "# Evaluate the model\n",
        "accuracy_log_val = accuracy_score(y_val, y_pred)\n",
        "print(f\"Validation Accuracy (Logistic Regression): {accuracy_log_val}\")\n",
        "\n"
      ],
      "metadata": {
        "id": "0oruuCb30gui",
        "colab": {
          "base_uri": "https://localhost:8080/"
        },
        "outputId": "71e566eb-03a4-482a-9d28-6e995e203ae3"
      },
      "execution_count": null,
      "outputs": [
        {
          "output_type": "stream",
          "name": "stdout",
          "text": [
            "Validation Accuracy (Logistic Regression): 0.7297297297297297\n"
          ]
        }
      ]
    },
    {
      "cell_type": "markdown",
      "source": [
        "This means the Logistic Regression model correctly predicted whether a house would sell fast or not for ~73% of the houses in the validation. This is decent."
      ],
      "metadata": {
        "id": "c7aSEIgfH93L"
      }
    },
    {
      "cell_type": "markdown",
      "source": [
        "# SVM (scaled training data)\n"
      ],
      "metadata": {
        "id": "HqKQWDYs5nIF"
      }
    },
    {
      "cell_type": "code",
      "source": [
        "from sklearn.linear_model import SGDClassifier\n",
        "from sklearn.model_selection import GridSearchCV\n",
        "from sklearn.preprocessing import StandardScaler  # Import StandardScaler for scaling\n",
        "from sklearn.impute import SimpleImputer\n",
        "\n",
        "# Initialize SGDClassifier with hinge loss (linear SVM)\n",
        "sgd_svm = SGDClassifier(loss='hinge', random_state=42)\n",
        "\n",
        "# Define the hyperparameter grid\n",
        "param_grid = {\n",
        "    'alpha': [0.0001, 0.001, 0.01, 0.1, 0.2, 0.3]  # Regularization parameter\n",
        "}\n",
        "\n",
        "# Use GridSearchCV for hyperparameter tuning with 5-fold cross-validation\n",
        "grid_search = GridSearchCV(sgd_svm, param_grid, cv=5, scoring='accuracy')\n",
        "\n",
        "# --- Scaling and Imputation ---\n",
        "# Create a scaler object\n",
        "scaler = StandardScaler()\n",
        "\n",
        "# Create a SimpleImputer object for NaNs (if any). Example using mean strategy\n",
        "imputer = SimpleImputer(strategy='mean')\n",
        "\n",
        "# Scale and impute training data\n",
        "# 1. Select numerical features only for scaling and imputing\n",
        "X_train_num = X_train.select_dtypes(include=np.number)\n",
        "\n",
        "# 2. Impute NaNs (if any) with the mean (or your strategy)\n",
        "X_train_imputed = imputer.fit_transform(X_train_num)\n",
        "\n",
        "# 3. Scale the imputed training data\n",
        "X_train_scaled = scaler.fit_transform(X_train_imputed)\n",
        "\n",
        "# Scale and impute validation data using the same scaler and imputer\n",
        "X_val_num = X_val.select_dtypes(include=np.number)\n",
        "X_val_imputed = imputer.transform(X_val_num)\n",
        "X_val_scaled = scaler.transform(X_val_imputed)\n",
        "\n",
        "# --- Model Fitting ---\n",
        "# Fit the model to the scaled and imputed training data\n",
        "grid_search.fit(X_train_scaled, y_train)  # Assumes X_train and y_train are defined\n",
        "\n",
        "# Get the best hyperparameters\n",
        "best_params = grid_search.best_params_\n",
        "print(f\"Best hyperparameters: {best_params}\")\n",
        "\n",
        "# Train the model with the best hyperparameters on the scaled and imputed training data\n",
        "best_sgd_model = SGDClassifier(loss='hinge', **best_params, random_state=42)\n",
        "best_sgd_model.fit(X_train_scaled, y_train)\n",
        "\n",
        "# Evaluate on the scaled and imputed validation or testing set (as before)\n",
        "y_pred = best_sgd_model.predict(X_val_scaled)\n",
        "accuracy_svm_val = accuracy_score(y_val, y_pred)\n",
        "print(f\"Validation Accuracy (SGD SVM): {accuracy_svm_val}\")"
      ],
      "metadata": {
        "colab": {
          "base_uri": "https://localhost:8080/"
        },
        "id": "8Xg9MfgV4Yr_",
        "outputId": "3ae33013-1902-4f31-ff5a-b88bf382b165"
      },
      "execution_count": null,
      "outputs": [
        {
          "output_type": "stream",
          "name": "stdout",
          "text": [
            "Best hyperparameters: {'alpha': 0.01}\n",
            "Validation Accuracy (SGD SVM): 0.7297297297297297\n"
          ]
        }
      ]
    },
    {
      "cell_type": "markdown",
      "source": [
        "The linear SVM model correctly predicted the outcome (in this case, 'Sell_fast') for approximately ~73% of the samples in the validation set."
      ],
      "metadata": {
        "id": "iwiN6FTdSFXB"
      }
    },
    {
      "source": [
        "# prompt: Fit a decision tree to training data to predict ‘Sell_fast’ with hyperparameter\n",
        "# chosen 5-fold cross validation. Evaluate the performance on validation set.\n",
        "# Scale the data before training.\n",
        "\n",
        "import numpy as np\n",
        "from sklearn.tree import DecisionTreeClassifier\n",
        "from sklearn.preprocessing import StandardScaler # Import StandardScaler\n",
        "from sklearn.impute import SimpleImputer\n",
        "\n",
        "# Assuming X_train, y_train, X_val, y_val are already defined and preprocessed\n",
        "\n",
        "# Define the parameter grid for Decision Tree\n",
        "param_grid = {\n",
        "    'max_depth': range(1,20)\n",
        "}\n",
        "\n",
        "# Initialize the Decision Tree Classifier\n",
        "dtc = DecisionTreeClassifier(random_state=42)\n",
        "\n",
        "# Use GridSearchCV for hyperparameter tuning with 5-fold cross-validation\n",
        "grid_search = GridSearchCV(dtc, param_grid, cv=5, scoring='accuracy')\n",
        "\n",
        "# --- Scaling and Imputation ---\n",
        "# 1. Create scaler and imputer objects\n",
        "scaler = StandardScaler()\n",
        "imputer = SimpleImputer(strategy='mean')\n",
        "\n",
        "# 2. Scale and impute training data\n",
        "X_train_num = X_train.select_dtypes(include=np.number) # Select numerical features\n",
        "X_train_imputed = imputer.fit_transform(X_train_num) # Impute missing values\n",
        "X_train_scaled = scaler.fit_transform(X_train_imputed) # Scale the data\n",
        "\n",
        "# 3. Scale and impute validation data using the same scaler and imputer\n",
        "X_val_num = X_val.select_dtypes(include=np.number) # Select numerical features\n",
        "X_val_imputed = imputer.transform(X_val_num) # Impute missing values\n",
        "X_val_scaled = scaler.transform(X_val_imputed) # Scale the data\n",
        "\n",
        "\n",
        "# Fit the model to the scaled training data\n",
        "grid_search.fit(X_train_scaled, y_train)\n",
        "\n",
        "# Get the best hyperparameters\n",
        "best_params = grid_search.best_params_\n",
        "print(f\"Best hyperparameters: {best_params}\")\n",
        "\n",
        "# Train the model with the best hyperparameters on the scaled training data\n",
        "best_dtc_model = DecisionTreeClassifier(**best_params, random_state=42)\n",
        "best_dtc_model.fit(X_train_scaled, y_train)\n",
        "\n",
        "# Evaluate on the scaled validation set\n",
        "y_pred_dtc = best_dtc_model.predict(X_val_scaled)\n",
        "accuracy_dtc_val = accuracy_score(y_val, y_pred_dtc)\n",
        "print(f\"Validation Accuracy (Decision Tree): {accuracy_dtc_val}\")"
      ],
      "cell_type": "code",
      "metadata": {
        "colab": {
          "base_uri": "https://localhost:8080/"
        },
        "id": "OQ18W1Xf2fed",
        "outputId": "e99b2d2b-2771-4f12-95d9-3a17f60751ce"
      },
      "execution_count": null,
      "outputs": [
        {
          "output_type": "stream",
          "name": "stdout",
          "text": [
            "Best hyperparameters: {'max_depth': 1}\n",
            "Validation Accuracy (Decision Tree): 0.75\n"
          ]
        }
      ]
    },
    {
      "cell_type": "code",
      "source": [
        "\n",
        "\n",
        "# Import plot_tree\n",
        "from sklearn.tree import plot_tree\n",
        "import matplotlib.pyplot as plt\n",
        "\n",
        "# Plot the decision tree\n",
        "plt.figure(figsize=(20, 10))  # Adjust figure size as needed\n",
        "plot_tree(best_dtc_model,\n",
        "          feature_names=X_train.columns,  # Use original feature names\n",
        "          class_names=['Did not Sell Fast', 'Sold Fast'],  # Set class names\n",
        "          filled=True,\n",
        "          rounded=True,\n",
        "          fontsize=10)  # Adjust fontsize as needed\n",
        "plt.show()"
      ],
      "metadata": {
        "colab": {
          "base_uri": "https://localhost:8080/",
          "height": 528
        },
        "id": "VoDBwtx65fRm",
        "outputId": "1af39240-567b-4f8d-a866-20f5ebc2d149"
      },
      "execution_count": null,
      "outputs": [
        {
          "output_type": "display_data",
          "data": {
            "text/plain": [
              "<Figure size 2000x1000 with 1 Axes>"
            ],
            "image/png": "[encoded data removed]"
          },
          "metadata": {}
        }
      ]
    },
    {
      "cell_type": "code",
      "source": [
        "# Get feature importances\n",
        "importances = best_dtc_model.feature_importances_\n",
        "\n",
        "# Get feature names (assuming X_train has column names)\n",
        "feature_names = X_train.columns\n",
        "\n",
        "# Create a DataFrame to display feature importances\n",
        "feature_importances = pd.DataFrame({'feature': feature_names, 'importance': importances})\n",
        "feature_importances = feature_importances.sort_values('importance', ascending=False)\n",
        "\n",
        "# Print or visualize the feature importances\n",
        "print(feature_importances)\n",
        "\n",
        "# Optionally, you can plot the importances for better visualization\n",
        "import matplotlib.pyplot as plt\n",
        "plt.barh(feature_importances['feature'], feature_importances['importance'])\n",
        "plt.xlabel('Feature Importance')\n",
        "plt.ylabel('Feature')\n",
        "plt.title('Feature Importance in Decision Tree')\n",
        "plt.show()"
      ],
      "metadata": {
        "colab": {
          "base_uri": "https://localhost:8080/",
          "height": 704
        },
        "id": "V9hiZREOUg2Z",
        "outputId": "8a7b7796-f059-43cb-b977-422639d40306"
      },
      "execution_count": null,
      "outputs": [
        {
          "output_type": "stream",
          "name": "stdout",
          "text": [
            "          feature  importance\n",
            "0      list_price         1.0\n",
            "1            BEDS         0.0\n",
            "2           BATHS         0.0\n",
            "3     SQUARE_FEET         0.0\n",
            "4        LOT_SIZE         0.0\n",
            "5      YEAR_BUILT         0.0\n",
            "6       walkScore         0.0\n",
            "7    transitScore         0.0\n",
            "8       bikeScore         0.0\n",
            "9    prime_rating         0.0\n",
            "10  middle_rating         0.0\n",
            "11    high_rating         0.0\n"
          ]
        },
        {
          "output_type": "display_data",
          "data": {
            "text/plain": [
              "<Figure size 640x480 with 1 Axes>"
            ],
            "image/png": "[encoded data removed]"
          },
          "metadata": {}
        }
      ]
    },
    {
      "cell_type": "code",
      "source": [
        "# prompt: Decision Making. Now suppose you are recommending 'list_price' for a “median” house,\n",
        "# whose feature values (except for list_price) are equal to the median of the data, i.e., with median\n",
        "# BEDS number, …, median high_rating, to maximize the probability of Sell_fast. What is the\n",
        "# optimal price? To do this,\n",
        "# 1) vary the list_price from the minimum to the maximum property list_price in the region,\n",
        "# e.g., 190k, 200k, 210k …, , 1160k, and predict the probability for each price while fixing the other\n",
        "# feature values.\n",
        "# 2) Create a plot of probability vs list_price. The optimal list_price is the one corresponding\n",
        "# to the maximum probability.\n",
        "# 3) Does the plot make sense? If not, what should we do to improve?\n",
        "# use Decision tree\n",
        "\n",
        "import matplotlib.pyplot as plt\n",
        "import numpy as np\n",
        "from sklearn.tree import DecisionTreeClassifier\n",
        "from sklearn.preprocessing import StandardScaler\n",
        "from sklearn.linear_model import SGDClassifier\n",
        "\n",
        "# ... (Your existing code)\n",
        "\n",
        "# Assuming houses_filtered, X_train, y_train, X_val, y_val are already defined\n",
        "\n",
        "# 1. Prepare the median house features\n",
        "median_house = X_train.median()\n",
        "\n",
        "# 2. Create a list of prices to test\n",
        "min_price = houses_filtered['list_price'].min()\n",
        "max_price = houses_filtered['list_price'].max()\n",
        "price_range = range(int(min_price), int(max_price) + 1, 10000) # Increment by 10,000\n",
        "\n",
        "probabilities = []\n",
        "for price in price_range:\n",
        "    # Create a copy of the median features and change list price\n",
        "    test_house = median_house.copy()\n",
        "    test_house['list_price'] = price\n",
        "    test_house = test_house.to_frame().T  # Reshape for prediction\n",
        "\n",
        "\n",
        "    # Predict the probability using Decision Tree (replace with best_model if needed)\n",
        "    probability = best_dtc_model.predict_proba(test_house)[0, 1] # Probability of Sell_fast (class 1)\n",
        "    probabilities.append(probability)\n",
        "\n",
        "# 3. Plot Probability vs. List Price\n",
        "plt.figure(figsize=(10, 6))\n",
        "plt.plot(price_range, probabilities)\n",
        "plt.xlabel('List Price')\n",
        "plt.ylabel('Probability of Sell_fast')\n",
        "plt.title('Probability of Sell_fast vs. List Price for Median House')\n",
        "plt.grid(True)\n",
        "plt.show()\n",
        "\n",
        "# 4. Find Optimal Price\n",
        "optimal_price_index = np.argmax(probabilities)\n",
        "optimal_price = price_range[optimal_price_index]\n",
        "print(f\"The optimal list price for a median house to maximize the probability of selling fast is: ${optimal_price}\")\n",
        "\n",
        "\n"
      ],
      "metadata": {
        "id": "L8LpUvMzEEtV",
        "colab": {
          "base_uri": "https://localhost:8080/",
          "height": 582
        },
        "outputId": "4440fcc5-2035-4674-df64-6c3f67311fb7"
      },
      "execution_count": null,
      "outputs": [
        {
          "output_type": "display_data",
          "data": {
            "text/plain": [
              "<Figure size 1000x600 with 1 Axes>"
            ],
            "image/png": "[encoded data removed]"
          },
          "metadata": {}
        },
        {
          "output_type": "stream",
          "name": "stdout",
          "text": [
            "The optimal list price for a median house to maximize the probability of selling fast is: $20000\n"
          ]
        }
      ]
    },
    {
      "cell_type": "markdown",
      "source": [
        "This plot makes sense because the decision tree makes only one primary split on list_price near 19,500, classifying everything below that threshold as “likely to sell fast” and everything above it as “less likely.” Consequently, once you cross that threshold, the predicted probability remains flat—hence the step function shape. To improve the model, you can remove or cap extreme outliers in list_price, train a deeper tree (or ensemble method like Random Forest), or incorporate additional transformations and features so that the model can learn a more nuanced relationship between price and speed of sale."
      ],
      "metadata": {
        "id": "RDt5hcj6GCUy"
      }
    },
    {
      "cell_type": "code",
      "source": [
        "# prompt:  test all four models  against the testing data and share accuracy of each\n",
        "\n",
        "import numpy as np\n",
        "# Assuming X_train, y_train, X_val, y_val, X_test, y_test are already defined and preprocessed\n",
        "\n",
        "# ... (Your existing code for model training and hyperparameter tuning) ...\n",
        "\n",
        "# Evaluate all models on the testing set\n",
        "from sklearn.metrics import accuracy_score\n",
        "\n",
        "#KNN\n",
        "imputer = SimpleImputer(strategy='mean')\n",
        "X_test_imputed = imputer.fit_transform(X_test.select_dtypes(include=np.number))\n",
        "X_test_scaled=scaler.transform(X_test_imputed)\n",
        "y_pred_knn = best_knn_scaled_model.predict(X_test_scaled)\n",
        "accuracy_knn = accuracy_score(y_test, y_pred_knn)\n",
        "print(f\"Test Accuracy (KNN): {accuracy_knn}\")\n",
        "\n",
        "\n",
        "# Logistic Regression\n",
        "X_test_imputed = imputer.transform(X_test.select_dtypes(include=np.number))\n",
        "y_pred_logreg = logreg.predict(X_test_imputed)\n",
        "accuracy_logreg = accuracy_score(y_test, y_pred_logreg)\n",
        "print(f\"Test Accuracy (Logistic Regression): {accuracy_logreg}\")\n",
        "\n",
        "\n",
        "# SVM\n",
        "X_test_imputed = imputer.transform(X_test.select_dtypes(include=np.number))\n",
        "y_pred_sgd = best_sgd_model.predict(X_test_imputed)\n",
        "accuracy_svm = accuracy_score(y_test, y_pred_sgd)\n",
        "print(f\"Test Accuracy (SVM): {accuracy_svm}\")\n",
        "\n",
        "\n",
        "# Decision Tree\n",
        "X_test_imputed = imputer.transform(X_test.select_dtypes(include=np.number))\n",
        "y_pred_dtc = best_dtc_model.predict(X_test_imputed)\n",
        "accuracy_dtc = accuracy_score(y_test, y_pred_dtc)\n",
        "print(f\"Test Accuracy (Decision Tree): {accuracy_dtc}\")\n",
        "\n",
        "\n"
      ],
      "metadata": {
        "id": "yQp6HvlHv-YW",
        "colab": {
          "base_uri": "https://localhost:8080/"
        },
        "outputId": "7a141819-c2ab-4df4-d3d9-12fbceb5c25f"
      },
      "execution_count": null,
      "outputs": [
        {
          "output_type": "stream",
          "name": "stdout",
          "text": [
            "Test Accuracy (KNN): 0.5526315789473685\n",
            "Test Accuracy (Logistic Regression): 0.7631578947368421\n",
            "Test Accuracy (SVM): 0.7894736842105263\n",
            "Test Accuracy (Decision Tree): 0.7631578947368421\n"
          ]
        }
      ]
    },
    {
      "cell_type": "markdown",
      "source": [
        "Based on these results, the Logistic Regression model performed the best with a test accuracy of 0.7631 meaning it correctly predicted the Sell_fast outcome for a larger percentage of the testing data."
      ],
      "metadata": {
        "id": "QH9tcqxyUdrQ"
      }
    },
    {
      "cell_type": "code",
      "source": [
        "# prompt: Give me the test accuracy difference between the validation accuracy for each model\n",
        "\n",
        "# Assuming all necessary variables (accuracy_knn, accuracy_logreg, accuracy_svm, accuracy_dtc) are defined as in the provided code.\n",
        "\n",
        "# Calculate the differences between test and validation accuracies.\n",
        "# Assuming the validation accuracies are stored in the variables accuracy, accuracy_logreg, etc., from the previous code.\n",
        "\n",
        "\n",
        "# KNN\n",
        "# The original code calculates accuracy, but doesn't save the validation accuracy under the same variable name.\n",
        "# Please provide the validation accuracy of KNN (or save it during training).\n",
        "# For example:\n",
        "# validation_accuracy_knn = accuracy # assuming accuracy stores the validation accuracy of KNN\n",
        "\n",
        "\n",
        "# Assuming validation accuracies exist in these variables (replace with actual names if different):\n",
        "validation_accuracy_knn = accuracy_knn_val\n",
        "validation_accuracy_logreg = accuracy_log_val # The original code stores this under the variable name 'accuracy'.\n",
        "# Assuming sgd refers to SVM:\n",
        "validation_accuracy_svm = accuracy_svm_val  # The original code stores this under the variable name 'accuracy'.\n",
        "validation_accuracy_dtc = accuracy_dtc_val # The original code stores this under the variable name 'accuracy'.\n",
        "\n",
        "#Calculating the differences between validation and test accuracies:\n",
        "diff_knn = abs(accuracy_knn - validation_accuracy_knn)\n",
        "diff_logreg = abs(accuracy_logreg - validation_accuracy_logreg)\n",
        "diff_svm = abs(accuracy_svm - validation_accuracy_svm)\n",
        "diff_dtc = abs(accuracy_dtc - validation_accuracy_dtc)\n",
        "\n",
        "\n",
        "print(f\"Test/Validation Accuracy Difference (KNN): {diff_knn}\")\n",
        "print(f\"Test/Validation Accuracy Difference (Logistic Regression): {diff_logreg}\")\n",
        "print(f\"Test/Validation Accuracy Difference (SVM): {diff_svm}\")\n",
        "print(f\"Test/Validation Accuracy Difference (Decision Tree): {diff_dtc}\")\n"
      ],
      "metadata": {
        "colab": {
          "base_uri": "https://localhost:8080/"
        },
        "id": "32ZTT-AMTdCv",
        "outputId": "c2bc4c46-0f55-4380-d45f-26c7c612037b"
      },
      "execution_count": null,
      "outputs": [
        {
          "output_type": "stream",
          "name": "stdout",
          "text": [
            "Test/Validation Accuracy Difference (KNN): 0.17034139402560455\n",
            "Test/Validation Accuracy Difference (Logistic Regression): 0.03342816500711243\n",
            "Test/Validation Accuracy Difference (SVM): 0.05974395448079661\n",
            "Test/Validation Accuracy Difference (Decision Tree): 0.013157894736842146\n"
          ]
        }
      ]
    },
    {
      "cell_type": "markdown",
      "source": [
        "The Decision Tree and SVM models resulted in the best generalization and least overfitting. Logistic Regression performed decently but overfitted slightly. The KNN had the most overfitting.  Overall, the Decision Tree and SVM should be used for this dataset due to their strong and consistent performance across validation and testing data."
      ],
      "metadata": {
        "id": "b-l2hvBDVdoB"
      }
    },
    {
      "cell_type": "markdown",
      "source": [
        "# Part 11"
      ],
      "metadata": {
        "id": "2xCj-7ZM7Kys"
      }
    },
    {
      "cell_type": "markdown",
      "source": [
        "Q1: How does the performance of the Logistic Regression model change when using scaled features?"
      ],
      "metadata": {
        "id": "fPvr8Wb-ANAv"
      }
    },
    {
      "cell_type": "code",
      "source": [
        "from sklearn.preprocessing import StandardScaler\n",
        "from sklearn.linear_model import LogisticRegression\n",
        "from sklearn.metrics import accuracy_score\n",
        "\n",
        "# Assuming X_train, y_train, X_val, y_val are already defined\n",
        "\n",
        "# Scale the training and validation data\n",
        "scaler = StandardScaler()\n",
        "X_train_scaled = scaler.fit_transform(X_train)\n",
        "X_val_scaled = scaler.transform(X_val)\n",
        "\n",
        "# Initialize and train the Logistic Regression model with scaled features\n",
        "logreg_scaled = LogisticRegression()\n",
        "logreg_scaled.fit(X_train_scaled, y_train)\n",
        "\n",
        "# Make predictions on the scaled validation set\n",
        "y_pred_scaled = logreg_scaled.predict(X_val_scaled)\n",
        "\n",
        "# Evaluate the model's accuracy\n",
        "accuracy_scaled = accuracy_score(y_val, y_pred_scaled)\n",
        "print(f\"Validation Accuracy (Logistic Regression with Scaling): {accuracy_scaled}\")"
      ],
      "metadata": {
        "colab": {
          "base_uri": "https://localhost:8080/"
        },
        "id": "Y1S6LUuSAXla",
        "outputId": "d0d19bd0-d643-4f5d-834c-715eb2e7de0f"
      },
      "execution_count": null,
      "outputs": [
        {
          "output_type": "stream",
          "name": "stdout",
          "text": [
            "Validation Accuracy (Logistic Regression with Scaling): 0.7094594594594594\n"
          ]
        }
      ]
    },
    {
      "cell_type": "markdown",
      "source": [
        "In this case, the accuracy of the Logistic Regression model actually decreased slightly when the features were scaled. Scaling did not improve the model's performance in this specific scenario."
      ],
      "metadata": {
        "id": "yJ6SVwvsAXW_"
      }
    },
    {
      "cell_type": "markdown",
      "source": [
        "Q2. How does the class imbalance in the 'Sell_fast' target variable affect the model performance, and what techniques could be used to address it?"
      ],
      "metadata": {
        "id": "uyDZiNC3CRbD"
      }
    },
    {
      "source": [
        "# Assuming 'houses' or 'houses_filtered' DataFrame is loaded\n",
        "target_counts = houses_filtered['Sell_fast'].value_counts()\n",
        "print(target_counts)\n",
        "\n",
        "# Calculate the percentage of each class\n",
        "class_percentages = target_counts / len(houses_filtered) * 100\n",
        "print(class_percentages)"
      ],
      "cell_type": "code",
      "metadata": {
        "colab": {
          "base_uri": "https://localhost:8080/"
        },
        "id": "MPrwnyb3Cp9J",
        "outputId": "ee9ffc14-572e-4cfb-dd10-33426878bc5e"
      },
      "execution_count": null,
      "outputs": [
        {
          "output_type": "stream",
          "name": "stdout",
          "text": [
            "Sell_fast\n",
            "1    518\n",
            "0    208\n",
            "Name: count, dtype: int64\n",
            "Sell_fast\n",
            "1    71.349862\n",
            "0    28.650138\n",
            "Name: count, dtype: float64\n"
          ]
        }
      ]
    },
    {
      "cell_type": "markdown",
      "source": [
        "These results indicate a slight imbalance in our target variable 'Sell_fast'. The majority class (Sell_fast = 1) has significantly more instances than the minority class (Sell_fast = 0).The imbalance can bias models towards predicting houses that sell fast, requiring techniques like resampling or transformations for better overall performance"
      ],
      "metadata": {
        "id": "ytGxf0djC9_c"
      }
    },
    {
      "cell_type": "markdown",
      "source": [],
      "metadata": {
        "id": "ZYthTDv8FiBn"
      }
    },
    {
      "cell_type": "markdown",
      "source": [],
      "metadata": {
        "id": "FK0wQrvuFiQK"
      }
    },
    {
      "cell_type": "code",
      "source": [],
      "metadata": {
        "id": "I1jHIwWyFkOj"
      },
      "execution_count": null,
      "outputs": []
    },
    {
      "cell_type": "code",
      "source": [],
      "metadata": {
        "id": "GMS28ZHAFkMS"
      },
      "execution_count": null,
      "outputs": []
    },
    {
      "cell_type": "code",
      "source": [],
      "metadata": {
        "id": "syVNJ7HmFkJ8"
      },
      "execution_count": null,
      "outputs": []
    },
    {
      "cell_type": "code",
      "source": [],
      "metadata": {
        "id": "70zbh-YpFkHp"
      },
      "execution_count": null,
      "outputs": []
    },
    {
      "cell_type": "code",
      "source": [],
      "metadata": {
        "id": "JDOgI-WLFkFc"
      },
      "execution_count": null,
      "outputs": []
    },
    {
      "cell_type": "code",
      "source": [],
      "metadata": {
        "id": "chHSbtipFkDC"
      },
      "execution_count": null,
      "outputs": []
    },
    {
      "cell_type": "code",
      "source": [],
      "metadata": {
        "id": "rHyePDkUFkA0"
      },
      "execution_count": null,
      "outputs": []
    },
    {
      "cell_type": "code",
      "source": [],
      "metadata": {
        "id": "0ahw11vxFj-i"
      },
      "execution_count": null,
      "outputs": []
    },
    {
      "cell_type": "code",
      "source": [],
      "metadata": {
        "id": "1szC-aUPFj8P"
      },
      "execution_count": null,
      "outputs": []
    },
    {
      "cell_type": "code",
      "source": [],
      "metadata": {
        "id": "EeGvawo0Fj1a"
      },
      "execution_count": null,
      "outputs": []
    },
    {
      "cell_type": "code",
      "source": [],
      "metadata": {
        "id": "ja1PPMg4FjzN"
      },
      "execution_count": null,
      "outputs": []
    },
    {
      "cell_type": "code",
      "source": [],
      "metadata": {
        "id": "3rX1rnjyFjw-"
      },
      "execution_count": null,
      "outputs": []
    },
    {
      "cell_type": "code",
      "source": [],
      "metadata": {
        "id": "9Rj5-SYUFjuu"
      },
      "execution_count": null,
      "outputs": []
    },
    {
      "cell_type": "code",
      "source": [],
      "metadata": {
        "id": "88VAWBb1FjtG"
      },
      "execution_count": null,
      "outputs": []
    },
    {
      "cell_type": "code",
      "source": [],
      "metadata": {
        "id": "UTUNckp4Fjoy"
      },
      "execution_count": null,
      "outputs": []
    },
    {
      "cell_type": "code",
      "source": [],
      "metadata": {
        "id": "hTMAbz5qFjmc"
      },
      "execution_count": null,
      "outputs": []
    },
    {
      "cell_type": "code",
      "source": [],
      "metadata": {
        "id": "piHaCQSsFjUK"
      },
      "execution_count": null,
      "outputs": []
    },
    {
      "cell_type": "code",
      "source": [],
      "metadata": {
        "id": "bCggSGFoFjJs"
      },
      "execution_count": null,
      "outputs": []
    },
    {
      "cell_type": "code",
      "source": [],
      "metadata": {
        "id": "PsS4ER27Fi7f"
      },
      "execution_count": null,
      "outputs": []
    },
    {
      "cell_type": "markdown",
      "source": [],
      "metadata": {
        "id": "3j6HLJzYFigQ"
      }
    }
  ],
  "metadata": {
    "kernelspec": {
      "display_name": "Python 3",
      "name": "python3"
    },
    "language_info": {
      "codemirror_mode": {
        "name": "ipython",
        "version": 3
      },
      "file_extension": ".py",
      "mimetype": "text/x-python",
      "name": "python",
      "nbconvert_exporter": "python",
      "pygments_lexer": "ipython3",
      "version": "3.11.4"
    },
    "colab": {
      "provenance": []
    }
  },
  "nbformat": 4,
  "nbformat_minor": 0
}